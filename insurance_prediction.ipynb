{
 "cells": [
  {
   "cell_type": "markdown",
   "metadata": {},
   "source": [
    "# Claim Fraud Prediction "
   ]
  },
  {
   "cell_type": "code",
   "execution_count": 2,
   "metadata": {},
   "outputs": [],
   "source": [
    "import pandas as pd \n",
    "import numpy as np\n",
    "import matplotlib.pyplot as plt\n",
    "import seaborn as sns\n",
    "from tabulate import tabulate\n",
    "import os\n",
    "import sys"
   ]
  },
  {
   "cell_type": "code",
   "execution_count": 3,
   "metadata": {},
   "outputs": [],
   "source": [
    "insurance = pd.read_csv('Data/insurance_data.csv')\n",
    "employees = pd.read_csv('Data/employee_data.csv')\n",
    "vendors = pd.read_csv('Data/vendor_data.csv')"
   ]
  },
  {
   "cell_type": "markdown",
   "metadata": {},
   "source": [
    "Let's start by looking information of each dataset. \n",
    "Starting with insurance"
   ]
  },
  {
   "cell_type": "code",
   "execution_count": 4,
   "metadata": {},
   "outputs": [
    {
     "data": {
      "text/html": [
       "<div>\n",
       "<style scoped>\n",
       "    .dataframe tbody tr th:only-of-type {\n",
       "        vertical-align: middle;\n",
       "    }\n",
       "\n",
       "    .dataframe tbody tr th {\n",
       "        vertical-align: top;\n",
       "    }\n",
       "\n",
       "    .dataframe thead th {\n",
       "        text-align: right;\n",
       "    }\n",
       "</style>\n",
       "<table border=\"1\" class=\"dataframe\">\n",
       "  <thead>\n",
       "    <tr style=\"text-align: right;\">\n",
       "      <th></th>\n",
       "      <th>TXN_DATE_TIME</th>\n",
       "      <th>TRANSACTION_ID</th>\n",
       "      <th>CUSTOMER_ID</th>\n",
       "      <th>POLICY_NUMBER</th>\n",
       "      <th>POLICY_EFF_DT</th>\n",
       "      <th>LOSS_DT</th>\n",
       "      <th>REPORT_DT</th>\n",
       "      <th>INSURANCE_TYPE</th>\n",
       "      <th>PREMIUM_AMOUNT</th>\n",
       "      <th>CLAIM_AMOUNT</th>\n",
       "      <th>...</th>\n",
       "      <th>CLAIM_STATUS</th>\n",
       "      <th>INCIDENT_SEVERITY</th>\n",
       "      <th>AUTHORITY_CONTACTED</th>\n",
       "      <th>ANY_INJURY</th>\n",
       "      <th>POLICE_REPORT_AVAILABLE</th>\n",
       "      <th>INCIDENT_STATE</th>\n",
       "      <th>INCIDENT_CITY</th>\n",
       "      <th>INCIDENT_HOUR_OF_THE_DAY</th>\n",
       "      <th>AGENT_ID</th>\n",
       "      <th>VENDOR_ID</th>\n",
       "    </tr>\n",
       "  </thead>\n",
       "  <tbody>\n",
       "    <tr>\n",
       "      <th>0</th>\n",
       "      <td>2020-06-01 00:00:00</td>\n",
       "      <td>TXN00000001</td>\n",
       "      <td>A00003822</td>\n",
       "      <td>PLC00008468</td>\n",
       "      <td>2015-06-23</td>\n",
       "      <td>2020-05-16</td>\n",
       "      <td>2020-05-21</td>\n",
       "      <td>Health</td>\n",
       "      <td>157.13</td>\n",
       "      <td>9000</td>\n",
       "      <td>...</td>\n",
       "      <td>A</td>\n",
       "      <td>Major Loss</td>\n",
       "      <td>Police</td>\n",
       "      <td>0</td>\n",
       "      <td>1</td>\n",
       "      <td>GA</td>\n",
       "      <td>Savannah</td>\n",
       "      <td>4</td>\n",
       "      <td>AGENT00413</td>\n",
       "      <td>VNDR00556</td>\n",
       "    </tr>\n",
       "    <tr>\n",
       "      <th>1</th>\n",
       "      <td>2020-06-01 00:00:00</td>\n",
       "      <td>TXN00000002</td>\n",
       "      <td>A00008149</td>\n",
       "      <td>PLC00009594</td>\n",
       "      <td>2018-04-21</td>\n",
       "      <td>2020-05-13</td>\n",
       "      <td>2020-05-18</td>\n",
       "      <td>Property</td>\n",
       "      <td>141.71</td>\n",
       "      <td>26000</td>\n",
       "      <td>...</td>\n",
       "      <td>A</td>\n",
       "      <td>Total Loss</td>\n",
       "      <td>Ambulance</td>\n",
       "      <td>1</td>\n",
       "      <td>0</td>\n",
       "      <td>AL</td>\n",
       "      <td>Montgomery</td>\n",
       "      <td>0</td>\n",
       "      <td>AGENT00769</td>\n",
       "      <td>VNDR00592</td>\n",
       "    </tr>\n",
       "    <tr>\n",
       "      <th>2</th>\n",
       "      <td>2020-06-01 00:00:00</td>\n",
       "      <td>TXN00000003</td>\n",
       "      <td>A00003172</td>\n",
       "      <td>PLC00007969</td>\n",
       "      <td>2019-10-03</td>\n",
       "      <td>2020-05-21</td>\n",
       "      <td>2020-05-26</td>\n",
       "      <td>Property</td>\n",
       "      <td>157.24</td>\n",
       "      <td>13000</td>\n",
       "      <td>...</td>\n",
       "      <td>A</td>\n",
       "      <td>Total Loss</td>\n",
       "      <td>Police</td>\n",
       "      <td>0</td>\n",
       "      <td>1</td>\n",
       "      <td>CO</td>\n",
       "      <td>Grand Junction</td>\n",
       "      <td>19</td>\n",
       "      <td>AGENT00883</td>\n",
       "      <td>VNDR00031</td>\n",
       "    </tr>\n",
       "    <tr>\n",
       "      <th>3</th>\n",
       "      <td>2020-06-01 00:00:00</td>\n",
       "      <td>TXN00000004</td>\n",
       "      <td>A00007572</td>\n",
       "      <td>PLC00009292</td>\n",
       "      <td>2016-11-29</td>\n",
       "      <td>2020-05-14</td>\n",
       "      <td>2020-05-19</td>\n",
       "      <td>Health</td>\n",
       "      <td>172.87</td>\n",
       "      <td>16000</td>\n",
       "      <td>...</td>\n",
       "      <td>A</td>\n",
       "      <td>Minor Loss</td>\n",
       "      <td>Ambulance</td>\n",
       "      <td>0</td>\n",
       "      <td>0</td>\n",
       "      <td>GA</td>\n",
       "      <td>Savannah</td>\n",
       "      <td>12</td>\n",
       "      <td>AGENT00278</td>\n",
       "      <td>VNDR00075</td>\n",
       "    </tr>\n",
       "    <tr>\n",
       "      <th>4</th>\n",
       "      <td>2020-06-01 00:00:00</td>\n",
       "      <td>TXN00000005</td>\n",
       "      <td>A00008173</td>\n",
       "      <td>PLC00000204</td>\n",
       "      <td>2011-12-26</td>\n",
       "      <td>2020-05-17</td>\n",
       "      <td>2020-05-22</td>\n",
       "      <td>Travel</td>\n",
       "      <td>88.53</td>\n",
       "      <td>3000</td>\n",
       "      <td>...</td>\n",
       "      <td>A</td>\n",
       "      <td>Major Loss</td>\n",
       "      <td>Police</td>\n",
       "      <td>0</td>\n",
       "      <td>1</td>\n",
       "      <td>TN</td>\n",
       "      <td>Nashville</td>\n",
       "      <td>18</td>\n",
       "      <td>AGENT00636</td>\n",
       "      <td>VNDR00472</td>\n",
       "    </tr>\n",
       "  </tbody>\n",
       "</table>\n",
       "<p>5 rows × 38 columns</p>\n",
       "</div>"
      ],
      "text/plain": [
       "         TXN_DATE_TIME TRANSACTION_ID CUSTOMER_ID POLICY_NUMBER POLICY_EFF_DT  \\\n",
       "0  2020-06-01 00:00:00    TXN00000001   A00003822   PLC00008468    2015-06-23   \n",
       "1  2020-06-01 00:00:00    TXN00000002   A00008149   PLC00009594    2018-04-21   \n",
       "2  2020-06-01 00:00:00    TXN00000003   A00003172   PLC00007969    2019-10-03   \n",
       "3  2020-06-01 00:00:00    TXN00000004   A00007572   PLC00009292    2016-11-29   \n",
       "4  2020-06-01 00:00:00    TXN00000005   A00008173   PLC00000204    2011-12-26   \n",
       "\n",
       "      LOSS_DT   REPORT_DT INSURANCE_TYPE  PREMIUM_AMOUNT  CLAIM_AMOUNT  ...  \\\n",
       "0  2020-05-16  2020-05-21         Health          157.13          9000  ...   \n",
       "1  2020-05-13  2020-05-18       Property          141.71         26000  ...   \n",
       "2  2020-05-21  2020-05-26       Property          157.24         13000  ...   \n",
       "3  2020-05-14  2020-05-19         Health          172.87         16000  ...   \n",
       "4  2020-05-17  2020-05-22         Travel           88.53          3000  ...   \n",
       "\n",
       "  CLAIM_STATUS INCIDENT_SEVERITY AUTHORITY_CONTACTED ANY_INJURY  \\\n",
       "0            A        Major Loss              Police          0   \n",
       "1            A        Total Loss           Ambulance          1   \n",
       "2            A        Total Loss              Police          0   \n",
       "3            A        Minor Loss           Ambulance          0   \n",
       "4            A        Major Loss              Police          0   \n",
       "\n",
       "  POLICE_REPORT_AVAILABLE  INCIDENT_STATE   INCIDENT_CITY  \\\n",
       "0                       1              GA        Savannah   \n",
       "1                       0              AL      Montgomery   \n",
       "2                       1              CO  Grand Junction   \n",
       "3                       0              GA        Savannah   \n",
       "4                       1              TN       Nashville   \n",
       "\n",
       "  INCIDENT_HOUR_OF_THE_DAY    AGENT_ID  VENDOR_ID  \n",
       "0                        4  AGENT00413  VNDR00556  \n",
       "1                        0  AGENT00769  VNDR00592  \n",
       "2                       19  AGENT00883  VNDR00031  \n",
       "3                       12  AGENT00278  VNDR00075  \n",
       "4                       18  AGENT00636  VNDR00472  \n",
       "\n",
       "[5 rows x 38 columns]"
      ]
     },
     "execution_count": 4,
     "metadata": {},
     "output_type": "execute_result"
    }
   ],
   "source": [
    "insurance.head() # preview a sample"
   ]
  },
  {
   "cell_type": "code",
   "execution_count": 5,
   "metadata": {},
   "outputs": [
    {
     "name": "stdout",
     "output_type": "stream",
     "text": [
      "<class 'pandas.core.frame.DataFrame'>\n",
      "RangeIndex: 10000 entries, 0 to 9999\n",
      "Data columns (total 38 columns):\n",
      " #   Column                    Non-Null Count  Dtype  \n",
      "---  ------                    --------------  -----  \n",
      " 0   TXN_DATE_TIME             10000 non-null  object \n",
      " 1   TRANSACTION_ID            10000 non-null  object \n",
      " 2   CUSTOMER_ID               10000 non-null  object \n",
      " 3   POLICY_NUMBER             10000 non-null  object \n",
      " 4   POLICY_EFF_DT             10000 non-null  object \n",
      " 5   LOSS_DT                   10000 non-null  object \n",
      " 6   REPORT_DT                 10000 non-null  object \n",
      " 7   INSURANCE_TYPE            10000 non-null  object \n",
      " 8   PREMIUM_AMOUNT            10000 non-null  float64\n",
      " 9   CLAIM_AMOUNT              10000 non-null  int64  \n",
      " 10  CUSTOMER_NAME             10000 non-null  object \n",
      " 11  ADDRESS_LINE1             10000 non-null  object \n",
      " 12  ADDRESS_LINE2             1495 non-null   object \n",
      " 13  CITY                      9946 non-null   object \n",
      " 14  STATE                     10000 non-null  object \n",
      " 15  POSTAL_CODE               10000 non-null  int64  \n",
      " 16  SSN                       10000 non-null  object \n",
      " 17  MARITAL_STATUS            10000 non-null  object \n",
      " 18  AGE                       10000 non-null  int64  \n",
      " 19  TENURE                    10000 non-null  int64  \n",
      " 20  EMPLOYMENT_STATUS         10000 non-null  object \n",
      " 21  NO_OF_FAMILY_MEMBERS      10000 non-null  int64  \n",
      " 22  RISK_SEGMENTATION         10000 non-null  object \n",
      " 23  HOUSE_TYPE                10000 non-null  object \n",
      " 24  SOCIAL_CLASS              10000 non-null  object \n",
      " 25  ROUTING_NUMBER            10000 non-null  int64  \n",
      " 26  ACCT_NUMBER               10000 non-null  object \n",
      " 27  CUSTOMER_EDUCATION_LEVEL  9471 non-null   object \n",
      " 28  CLAIM_STATUS              10000 non-null  object \n",
      " 29  INCIDENT_SEVERITY         10000 non-null  object \n",
      " 30  AUTHORITY_CONTACTED       10000 non-null  object \n",
      " 31  ANY_INJURY                10000 non-null  int64  \n",
      " 32  POLICE_REPORT_AVAILABLE   10000 non-null  int64  \n",
      " 33  INCIDENT_STATE            10000 non-null  object \n",
      " 34  INCIDENT_CITY             9954 non-null   object \n",
      " 35  INCIDENT_HOUR_OF_THE_DAY  10000 non-null  int64  \n",
      " 36  AGENT_ID                  10000 non-null  object \n",
      " 37  VENDOR_ID                 6755 non-null   object \n",
      "dtypes: float64(1), int64(9), object(28)\n",
      "memory usage: 2.9+ MB\n"
     ]
    }
   ],
   "source": [
    "insurance.info()"
   ]
  },
  {
   "cell_type": "markdown",
   "metadata": {},
   "source": [
    "Let's now create a dictionary with the explanation of each parameter in the insurance dataset"
   ]
  },
  {
   "cell_type": "code",
   "execution_count": 6,
   "metadata": {},
   "outputs": [
    {
     "name": "stdout",
     "output_type": "stream",
     "text": [
      "|                          | Description                                                         |\n",
      "|:-------------------------|:--------------------------------------------------------------------|\n",
      "| TXN_DATE_TIME            | Transaction Date                                                    |\n",
      "| TRANSACTION_ID           | Unique Transaction ID                                               |\n",
      "| CUSTOMER_ID              | Unique Customer ID                                                  |\n",
      "| POLICY_NUMBER            | Policy Number                                                       |\n",
      "| POLICY_EFF_DT            | Policy Effective Date                                               |\n",
      "| LOSS_DT                  | Date on which loss happened                                         |\n",
      "| REPORTED_DT              | Date on which incident was reported                                 |\n",
      "| INSURANCE_TYPE           | Insurance Type                                                      |\n",
      "| PREMIUM_AMOUNT           | Premium Amount Paid by the Customer (Monthly)                       |\n",
      "| CLAIM_AMOUNT             | Claim Amount raised by Customer                                     |\n",
      "| CUSTOMER_NAME            | Customer Full Name                                                  |\n",
      "| ADDRES_LINE1             | Customer Address Line 1                                             |\n",
      "| CITY                     | Customer Address City Name                                          |\n",
      "| STATE                    | Customer Address State Name                                         |\n",
      "| POSTAL_CODE              | Customer Address Postal Code                                        |\n",
      "| SSN                      | Customer Social Security Number                                     |\n",
      "| MARITAL_STATUS           | Customer Marital Status                                             |\n",
      "| AGE                      | Customer Age                                                        |\n",
      "| TENURE                   | Customer Tenure with the Insurance Company in Month                 |\n",
      "| EMPLOYMENT_STATUS        | Customer Employment Status                                          |\n",
      "| NO_OF_FAMILY_MEMBERS     | Number of Family Members                                            |\n",
      "| RISK_SEGMENTATION        | Customer Risk Segmentation or Risk Level                            |\n",
      "| HOUSE_TYPE               | Customer House Type                                                 |\n",
      "| SOCIAL_CLASS             | Customer Income Group -- High Income , Low Income, Mid Income Group |\n",
      "| ROUTING_NUMBER           | Customer Bank Routing Number                                        |\n",
      "| ACCT_NUMBER              | Customer Bank Account Number                                        |\n",
      "| CUSTOMER_EDUCATION_LEVEL | Customer Education Level                                            |\n",
      "| CLAIM_STATUS             | Claim Status(Approve/Decline)                                       |\n",
      "| INCIDENT_SEVERITY        | Incident Severity Level                                             |\n",
      "| AUTHORITY_CONTACTED      | Which Authority was contacted for the incident?                     |\n",
      "| ANY_INJURY               | Any injury reported?                                                |\n",
      "| POLICE_REPORT_AVAILABLE  | Is Police Report Available?                                         |\n",
      "| INCIDENT_STATE           | State in which incident happened                                    |\n",
      "| INCIDENT_CITY            | City in which incident happened                                     |\n",
      "| INCIDENT_HOUR_OF_THE_DAY | Time of incident in hours                                           |\n",
      "| AGENT_ID                 | Agent Unique ID who is working on the Claim                         |\n",
      "| VENDOR_ID                | Vendor Unique ID who is working on the Claim                        |\n"
     ]
    }
   ],
   "source": [
    "dict_insurance = {'TXN_DATE_TIME':'Transaction Date',\n",
    "                  'TRANSACTION_ID':'Unique Transaction ID',\n",
    "                  'CUSTOMER_ID':'Unique Customer ID',\n",
    "                  'POLICY_NUMBER':'Policy Number',\n",
    "                  'POLICY_EFF_DT':'Policy Effective Date',\n",
    "                  'LOSS_DT':'Date on which loss happened',\n",
    "                  'REPORTED_DT':'Date on which incident was reported',\n",
    "                  'INSURANCE_TYPE':'Insurance Type',\n",
    "                  'PREMIUM_AMOUNT':'Premium Amount Paid by the Customer (Monthly)',\n",
    "                  'CLAIM_AMOUNT':'Claim Amount raised by Customer',\n",
    "                  'CUSTOMER_NAME':'Customer Full Name',\n",
    "                  'ADDRES_LINE1':'Customer Address Line 1',\n",
    "                  'CITY':'Customer Address City Name',\n",
    "                  'STATE':'Customer Address State Name',\n",
    "                  'POSTAL_CODE':'Customer Address Postal Code',\n",
    "                  'SSN':'Customer Social Security Number',\n",
    "                  'MARITAL_STATUS':'Customer Marital Status',\n",
    "                  'AGE':'Customer Age',\n",
    "                  'TENURE':'Customer Tenure with the Insurance Company in Month',\n",
    "                  'EMPLOYMENT_STATUS':'Customer Employment Status',\n",
    "                  'NO_OF_FAMILY_MEMBERS':'Number of Family Members',\n",
    "                  'RISK_SEGMENTATION':'Customer Risk Segmentation or Risk Level',\n",
    "                  'HOUSE_TYPE':'Customer House Type',\n",
    "                  'SOCIAL_CLASS':'Customer Income Group -- High Income , Low Income, Mid Income Group',\n",
    "                  'ROUTING_NUMBER':'Customer Bank Routing Number',\n",
    "                  'ACCT_NUMBER':'Customer Bank Account Number',\n",
    "                  'CUSTOMER_EDUCATION_LEVEL':'Customer Education Level',\n",
    "                  'CLAIM_STATUS':'Claim Status(Approve/Decline)',\n",
    "                  'INCIDENT_SEVERITY':'Incident Severity Level',\n",
    "                  'AUTHORITY_CONTACTED':'Which Authority was contacted for the incident?',\n",
    "                  'ANY_INJURY':'Any injury reported?',\n",
    "                  'POLICE_REPORT_AVAILABLE':'Is Police Report Available?',\n",
    "                  'INCIDENT_STATE':'State in which incident happened',\n",
    "                  'INCIDENT_CITY':'City in which incident happened',\n",
    "                  'INCIDENT_HOUR_OF_THE_DAY':'Time of incident in hours',\n",
    "                  'AGENT_ID':'Agent Unique ID who is working on the Claim',\n",
    "                  'VENDOR_ID':'Vendor Unique ID who is working on the Claim'}\n",
    "\n",
    "df_insurance = pd.DataFrame.from_dict(dict_insurance, orient='index', columns=['Description'])\n",
    "print(df_insurance.to_markdown())"
   ]
  },
  {
   "cell_type": "markdown",
   "metadata": {},
   "source": []
  },
  {
   "cell_type": "markdown",
   "metadata": {},
   "source": [
    "Now, let's repeat the same for the vendors and agents datasets."
   ]
  },
  {
   "cell_type": "code",
   "execution_count": 7,
   "metadata": {},
   "outputs": [
    {
     "data": {
      "text/html": [
       "<div>\n",
       "<style scoped>\n",
       "    .dataframe tbody tr th:only-of-type {\n",
       "        vertical-align: middle;\n",
       "    }\n",
       "\n",
       "    .dataframe tbody tr th {\n",
       "        vertical-align: top;\n",
       "    }\n",
       "\n",
       "    .dataframe thead th {\n",
       "        text-align: right;\n",
       "    }\n",
       "</style>\n",
       "<table border=\"1\" class=\"dataframe\">\n",
       "  <thead>\n",
       "    <tr style=\"text-align: right;\">\n",
       "      <th></th>\n",
       "      <th>AGENT_ID</th>\n",
       "      <th>AGENT_NAME</th>\n",
       "      <th>DATE_OF_JOINING</th>\n",
       "      <th>ADDRESS_LINE1</th>\n",
       "      <th>ADDRESS_LINE2</th>\n",
       "      <th>CITY</th>\n",
       "      <th>STATE</th>\n",
       "      <th>POSTAL_CODE</th>\n",
       "      <th>EMP_ROUTING_NUMBER</th>\n",
       "      <th>EMP_ACCT_NUMBER</th>\n",
       "    </tr>\n",
       "  </thead>\n",
       "  <tbody>\n",
       "    <tr>\n",
       "      <th>0</th>\n",
       "      <td>AGENT00001</td>\n",
       "      <td>Ray Johns</td>\n",
       "      <td>1993-06-05</td>\n",
       "      <td>1402 Maggies Way</td>\n",
       "      <td>NaN</td>\n",
       "      <td>Waterbury Center</td>\n",
       "      <td>VT</td>\n",
       "      <td>5677</td>\n",
       "      <td>34584958</td>\n",
       "      <td>HKUN51252328472585</td>\n",
       "    </tr>\n",
       "    <tr>\n",
       "      <th>1</th>\n",
       "      <td>AGENT00002</td>\n",
       "      <td>Angelo Borjon</td>\n",
       "      <td>2005-12-27</td>\n",
       "      <td>414 Tanya Pass</td>\n",
       "      <td>NaN</td>\n",
       "      <td>Panama City</td>\n",
       "      <td>FL</td>\n",
       "      <td>32404</td>\n",
       "      <td>107363763</td>\n",
       "      <td>OPIS19290040088204</td>\n",
       "    </tr>\n",
       "    <tr>\n",
       "      <th>2</th>\n",
       "      <td>AGENT00003</td>\n",
       "      <td>Candy Spellman</td>\n",
       "      <td>2003-09-02</td>\n",
       "      <td>606 National Street</td>\n",
       "      <td>#306</td>\n",
       "      <td>Fayetteville</td>\n",
       "      <td>AR</td>\n",
       "      <td>72701</td>\n",
       "      <td>81744097</td>\n",
       "      <td>YSCJ67489688482590</td>\n",
       "    </tr>\n",
       "    <tr>\n",
       "      <th>3</th>\n",
       "      <td>AGENT00004</td>\n",
       "      <td>Mary Smith</td>\n",
       "      <td>2004-09-23</td>\n",
       "      <td>235 Hugh Thomas Drive</td>\n",
       "      <td>NaN</td>\n",
       "      <td>Panama City</td>\n",
       "      <td>FL</td>\n",
       "      <td>32404</td>\n",
       "      <td>67563771</td>\n",
       "      <td>ZANG21285355574581</td>\n",
       "    </tr>\n",
       "    <tr>\n",
       "      <th>4</th>\n",
       "      <td>AGENT00005</td>\n",
       "      <td>Mildred Diaz</td>\n",
       "      <td>2011-06-21</td>\n",
       "      <td>3426 Broadview Street</td>\n",
       "      <td>NaN</td>\n",
       "      <td>Montgomery</td>\n",
       "      <td>AL</td>\n",
       "      <td>36110</td>\n",
       "      <td>114951317</td>\n",
       "      <td>DZFS82244494451134</td>\n",
       "    </tr>\n",
       "  </tbody>\n",
       "</table>\n",
       "</div>"
      ],
      "text/plain": [
       "     AGENT_ID      AGENT_NAME DATE_OF_JOINING          ADDRESS_LINE1  \\\n",
       "0  AGENT00001       Ray Johns      1993-06-05       1402 Maggies Way   \n",
       "1  AGENT00002   Angelo Borjon      2005-12-27         414 Tanya Pass   \n",
       "2  AGENT00003  Candy Spellman      2003-09-02    606 National Street   \n",
       "3  AGENT00004      Mary Smith      2004-09-23  235 Hugh Thomas Drive   \n",
       "4  AGENT00005    Mildred Diaz      2011-06-21  3426 Broadview Street   \n",
       "\n",
       "  ADDRESS_LINE2              CITY STATE  POSTAL_CODE  EMP_ROUTING_NUMBER  \\\n",
       "0           NaN  Waterbury Center    VT         5677            34584958   \n",
       "1           NaN       Panama City    FL        32404           107363763   \n",
       "2          #306      Fayetteville    AR        72701            81744097   \n",
       "3           NaN       Panama City    FL        32404            67563771   \n",
       "4           NaN        Montgomery    AL        36110           114951317   \n",
       "\n",
       "      EMP_ACCT_NUMBER  \n",
       "0  HKUN51252328472585  \n",
       "1  OPIS19290040088204  \n",
       "2  YSCJ67489688482590  \n",
       "3  ZANG21285355574581  \n",
       "4  DZFS82244494451134  "
      ]
     },
     "execution_count": 7,
     "metadata": {},
     "output_type": "execute_result"
    }
   ],
   "source": [
    "employees.head() # preview a sample"
   ]
  },
  {
   "cell_type": "code",
   "execution_count": 8,
   "metadata": {},
   "outputs": [
    {
     "name": "stdout",
     "output_type": "stream",
     "text": [
      "<class 'pandas.core.frame.DataFrame'>\n",
      "RangeIndex: 1200 entries, 0 to 1199\n",
      "Data columns (total 10 columns):\n",
      " #   Column              Non-Null Count  Dtype \n",
      "---  ------              --------------  ----- \n",
      " 0   AGENT_ID            1200 non-null   object\n",
      " 1   AGENT_NAME          1200 non-null   object\n",
      " 2   DATE_OF_JOINING     1200 non-null   object\n",
      " 3   ADDRESS_LINE1       1200 non-null   object\n",
      " 4   ADDRESS_LINE2       179 non-null    object\n",
      " 5   CITY                1193 non-null   object\n",
      " 6   STATE               1200 non-null   object\n",
      " 7   POSTAL_CODE         1200 non-null   int64 \n",
      " 8   EMP_ROUTING_NUMBER  1200 non-null   int64 \n",
      " 9   EMP_ACCT_NUMBER     1200 non-null   object\n",
      "dtypes: int64(2), object(8)\n",
      "memory usage: 93.9+ KB\n"
     ]
    }
   ],
   "source": [
    "employees.info()"
   ]
  },
  {
   "cell_type": "code",
   "execution_count": 9,
   "metadata": {},
   "outputs": [
    {
     "name": "stdout",
     "output_type": "stream",
     "text": [
      "|                    | Description                       |\n",
      "|:-------------------|:----------------------------------|\n",
      "| AGENT_ID           | Agent Identifier                  |\n",
      "| AGENT_NAME         | Agent Full Name                   |\n",
      "| DATE_OF_JOINING    | Date of Joining the Organizations |\n",
      "| ADDRESS_LINE1      | Agent Address Line 1              |\n",
      "| CITY               | Agent Address City Name           |\n",
      "| STATE              | Agent Address State Name          |\n",
      "| POSTAL_CODE        | Agent Address Postal Code         |\n",
      "| EMP_ROUTING_NUMBER | Agent Bank Routing Number         |\n",
      "| EMP_ACCT_NUMBER    | Agent Bank Account Number         |\n"
     ]
    }
   ],
   "source": [
    "dict_employees = {'AGENT_ID':'Agent Identifier',\n",
    "                  'AGENT_NAME':'Agent Full Name',\n",
    "                  'DATE_OF_JOINING':'Date of Joining the Organizations',\n",
    "                  'ADDRESS_LINE1':'Agent Address Line 1',\n",
    "                  'CITY':'Agent Address City Name',\n",
    "                  'STATE':'Agent Address State Name',\n",
    "                  'POSTAL_CODE':'Agent Address Postal Code',\n",
    "                  'EMP_ROUTING_NUMBER':'Agent Bank Routing Number',\n",
    "                  'EMP_ACCT_NUMBER':'Agent Bank Account Number'}\n",
    "df_employees = pd.DataFrame.from_dict(dict_employees, orient='index', columns=['Description'])\n",
    "print(df_employees.to_markdown())\n"
   ]
  },
  {
   "cell_type": "code",
   "execution_count": 10,
   "metadata": {},
   "outputs": [
    {
     "data": {
      "text/html": [
       "<div>\n",
       "<style scoped>\n",
       "    .dataframe tbody tr th:only-of-type {\n",
       "        vertical-align: middle;\n",
       "    }\n",
       "\n",
       "    .dataframe tbody tr th {\n",
       "        vertical-align: top;\n",
       "    }\n",
       "\n",
       "    .dataframe thead th {\n",
       "        text-align: right;\n",
       "    }\n",
       "</style>\n",
       "<table border=\"1\" class=\"dataframe\">\n",
       "  <thead>\n",
       "    <tr style=\"text-align: right;\">\n",
       "      <th></th>\n",
       "      <th>VENDOR_ID</th>\n",
       "      <th>VENDOR_NAME</th>\n",
       "      <th>ADDRESS_LINE1</th>\n",
       "      <th>ADDRESS_LINE2</th>\n",
       "      <th>CITY</th>\n",
       "      <th>STATE</th>\n",
       "      <th>POSTAL_CODE</th>\n",
       "    </tr>\n",
       "  </thead>\n",
       "  <tbody>\n",
       "    <tr>\n",
       "      <th>0</th>\n",
       "      <td>VNDR00001</td>\n",
       "      <td>King, Proctor and Jones</td>\n",
       "      <td>2027 North Shannon Drive</td>\n",
       "      <td>#5</td>\n",
       "      <td>Fayetteville</td>\n",
       "      <td>AR</td>\n",
       "      <td>72703</td>\n",
       "    </tr>\n",
       "    <tr>\n",
       "      <th>1</th>\n",
       "      <td>VNDR00002</td>\n",
       "      <td>Garcia Ltd</td>\n",
       "      <td>5701 East Shirley Lane</td>\n",
       "      <td>NaN</td>\n",
       "      <td>Montgomery</td>\n",
       "      <td>AL</td>\n",
       "      <td>36117</td>\n",
       "    </tr>\n",
       "    <tr>\n",
       "      <th>2</th>\n",
       "      <td>VNDR00003</td>\n",
       "      <td>Cherry LLC</td>\n",
       "      <td>1217 Cottondale Road</td>\n",
       "      <td>NaN</td>\n",
       "      <td>Montgomery</td>\n",
       "      <td>AL</td>\n",
       "      <td>36109</td>\n",
       "    </tr>\n",
       "    <tr>\n",
       "      <th>3</th>\n",
       "      <td>VNDR00004</td>\n",
       "      <td>Mays-Benson</td>\n",
       "      <td>227 West Montgomery Cross Road</td>\n",
       "      <td>#736</td>\n",
       "      <td>Savannah</td>\n",
       "      <td>GA</td>\n",
       "      <td>31406</td>\n",
       "    </tr>\n",
       "    <tr>\n",
       "      <th>4</th>\n",
       "      <td>VNDR00005</td>\n",
       "      <td>Wilson PLC</td>\n",
       "      <td>23 North Hill Street</td>\n",
       "      <td>NaN</td>\n",
       "      <td>Nashville</td>\n",
       "      <td>TN</td>\n",
       "      <td>37210</td>\n",
       "    </tr>\n",
       "  </tbody>\n",
       "</table>\n",
       "</div>"
      ],
      "text/plain": [
       "   VENDOR_ID              VENDOR_NAME                   ADDRESS_LINE1  \\\n",
       "0  VNDR00001  King, Proctor and Jones        2027 North Shannon Drive   \n",
       "1  VNDR00002               Garcia Ltd          5701 East Shirley Lane   \n",
       "2  VNDR00003               Cherry LLC            1217 Cottondale Road   \n",
       "3  VNDR00004              Mays-Benson  227 West Montgomery Cross Road   \n",
       "4  VNDR00005               Wilson PLC            23 North Hill Street   \n",
       "\n",
       "  ADDRESS_LINE2          CITY STATE  POSTAL_CODE  \n",
       "0            #5  Fayetteville    AR        72703  \n",
       "1           NaN    Montgomery    AL        36117  \n",
       "2           NaN    Montgomery    AL        36109  \n",
       "3          #736      Savannah    GA        31406  \n",
       "4           NaN     Nashville    TN        37210  "
      ]
     },
     "execution_count": 10,
     "metadata": {},
     "output_type": "execute_result"
    }
   ],
   "source": [
    "vendors.head() # preview a sample"
   ]
  },
  {
   "cell_type": "code",
   "execution_count": 11,
   "metadata": {},
   "outputs": [
    {
     "name": "stdout",
     "output_type": "stream",
     "text": [
      "<class 'pandas.core.frame.DataFrame'>\n",
      "RangeIndex: 600 entries, 0 to 599\n",
      "Data columns (total 7 columns):\n",
      " #   Column         Non-Null Count  Dtype \n",
      "---  ------         --------------  ----- \n",
      " 0   VENDOR_ID      600 non-null    object\n",
      " 1   VENDOR_NAME    600 non-null    object\n",
      " 2   ADDRESS_LINE1  600 non-null    object\n",
      " 3   ADDRESS_LINE2  97 non-null     object\n",
      " 4   CITY           594 non-null    object\n",
      " 5   STATE          600 non-null    object\n",
      " 6   POSTAL_CODE    600 non-null    int64 \n",
      "dtypes: int64(1), object(6)\n",
      "memory usage: 32.9+ KB\n"
     ]
    }
   ],
   "source": [
    "vendors.info()"
   ]
  },
  {
   "cell_type": "code",
   "execution_count": 12,
   "metadata": {},
   "outputs": [
    {
     "name": "stdout",
     "output_type": "stream",
     "text": [
      "|               | Description                |\n",
      "|:--------------|:---------------------------|\n",
      "| VENDOR_ID     | Unique Vendor ID           |\n",
      "| VENDOR_NAME   | Vendor Full Name           |\n",
      "| ADDRESS_LINE1 | Vendor Address Line 1      |\n",
      "| CITY          | Vendor Address City Name   |\n",
      "| STATE         | Vendor Address State Name  |\n",
      "| POSTAL_CODE   | Vendor Address Postal Code |\n"
     ]
    }
   ],
   "source": [
    "dict_vendors = {'VENDOR_ID':'Unique Vendor ID',\n",
    "                'VENDOR_NAME':'Vendor Full Name',\n",
    "                'ADDRESS_LINE1':'Vendor Address Line 1',\n",
    "                'CITY':'Vendor Address City Name',\n",
    "                'STATE':'Vendor Address State Name',\n",
    "                'POSTAL_CODE':'Vendor Address Postal Code'}\n",
    "df_vendors = pd.DataFrame.from_dict(dict_vendors, orient='index', columns=['Description'])\n",
    "print(df_vendors.to_markdown())"
   ]
  },
  {
   "cell_type": "markdown",
   "metadata": {},
   "source": [
    "# Data Cleaning and Preprocessing"
   ]
  },
  {
   "cell_type": "markdown",
   "metadata": {},
   "source": [
    "First, let's notice that each data set contains some information relating time. Let's first convert into data format such columns  "
   ]
  },
  {
   "cell_type": "code",
   "execution_count": 13,
   "metadata": {},
   "outputs": [],
   "source": [
    "## Insurance Data set\n",
    "insurance['TXN_DATE_TIME'] = insurance['TXN_DATE_TIME'].astype('datetime64[ns]')\n",
    "insurance['POLICY_EFF_DT'] = insurance['POLICY_EFF_DT'].astype('datetime64[ns]')\n",
    "insurance['LOSS_DT'] = insurance['LOSS_DT'].astype('datetime64[ns]')\n",
    "\n",
    "## Employee Data set\n",
    "employees['DATE_OF_JOINING'] = employees['DATE_OF_JOINING'].astype('datetime64[ns]')"
   ]
  },
  {
   "cell_type": "markdown",
   "metadata": {},
   "source": [
    "Let's now check for missing and repeated values"
   ]
  },
  {
   "cell_type": "code",
   "execution_count": 14,
   "metadata": {},
   "outputs": [
    {
     "data": {
      "text/html": [
       "<div>\n",
       "<style scoped>\n",
       "    .dataframe tbody tr th:only-of-type {\n",
       "        vertical-align: middle;\n",
       "    }\n",
       "\n",
       "    .dataframe tbody tr th {\n",
       "        vertical-align: top;\n",
       "    }\n",
       "\n",
       "    .dataframe thead th {\n",
       "        text-align: right;\n",
       "    }\n",
       "</style>\n",
       "<table border=\"1\" class=\"dataframe\">\n",
       "  <thead>\n",
       "    <tr style=\"text-align: right;\">\n",
       "      <th></th>\n",
       "      <th>TXN_DATE_TIME</th>\n",
       "      <th>TRANSACTION_ID</th>\n",
       "      <th>CUSTOMER_ID</th>\n",
       "      <th>POLICY_NUMBER</th>\n",
       "      <th>POLICY_EFF_DT</th>\n",
       "      <th>LOSS_DT</th>\n",
       "      <th>REPORT_DT</th>\n",
       "      <th>INSURANCE_TYPE</th>\n",
       "      <th>PREMIUM_AMOUNT</th>\n",
       "      <th>CLAIM_AMOUNT</th>\n",
       "      <th>...</th>\n",
       "      <th>CLAIM_STATUS</th>\n",
       "      <th>INCIDENT_SEVERITY</th>\n",
       "      <th>AUTHORITY_CONTACTED</th>\n",
       "      <th>ANY_INJURY</th>\n",
       "      <th>POLICE_REPORT_AVAILABLE</th>\n",
       "      <th>INCIDENT_STATE</th>\n",
       "      <th>INCIDENT_CITY</th>\n",
       "      <th>INCIDENT_HOUR_OF_THE_DAY</th>\n",
       "      <th>AGENT_ID</th>\n",
       "      <th>VENDOR_ID</th>\n",
       "    </tr>\n",
       "  </thead>\n",
       "  <tbody>\n",
       "  </tbody>\n",
       "</table>\n",
       "<p>0 rows × 38 columns</p>\n",
       "</div>"
      ],
      "text/plain": [
       "Empty DataFrame\n",
       "Columns: [TXN_DATE_TIME, TRANSACTION_ID, CUSTOMER_ID, POLICY_NUMBER, POLICY_EFF_DT, LOSS_DT, REPORT_DT, INSURANCE_TYPE, PREMIUM_AMOUNT, CLAIM_AMOUNT, CUSTOMER_NAME, ADDRESS_LINE1, ADDRESS_LINE2, CITY, STATE, POSTAL_CODE, SSN, MARITAL_STATUS, AGE, TENURE, EMPLOYMENT_STATUS, NO_OF_FAMILY_MEMBERS, RISK_SEGMENTATION, HOUSE_TYPE, SOCIAL_CLASS, ROUTING_NUMBER, ACCT_NUMBER, CUSTOMER_EDUCATION_LEVEL, CLAIM_STATUS, INCIDENT_SEVERITY, AUTHORITY_CONTACTED, ANY_INJURY, POLICE_REPORT_AVAILABLE, INCIDENT_STATE, INCIDENT_CITY, INCIDENT_HOUR_OF_THE_DAY, AGENT_ID, VENDOR_ID]\n",
       "Index: []\n",
       "\n",
       "[0 rows x 38 columns]"
      ]
     },
     "execution_count": 14,
     "metadata": {},
     "output_type": "execute_result"
    }
   ],
   "source": [
    "insurance[insurance.duplicated()] # check duplicated rows"
   ]
  },
  {
   "cell_type": "code",
   "execution_count": 15,
   "metadata": {},
   "outputs": [
    {
     "data": {
      "text/plain": [
       "TXN_DATE_TIME                  0\n",
       "TRANSACTION_ID                 0\n",
       "CUSTOMER_ID                    0\n",
       "POLICY_NUMBER                  0\n",
       "POLICY_EFF_DT                  0\n",
       "LOSS_DT                        0\n",
       "REPORT_DT                      0\n",
       "INSURANCE_TYPE                 0\n",
       "PREMIUM_AMOUNT                 0\n",
       "CLAIM_AMOUNT                   0\n",
       "CUSTOMER_NAME                  0\n",
       "ADDRESS_LINE1                  0\n",
       "ADDRESS_LINE2               8505\n",
       "CITY                          54\n",
       "STATE                          0\n",
       "POSTAL_CODE                    0\n",
       "SSN                            0\n",
       "MARITAL_STATUS                 0\n",
       "AGE                            0\n",
       "TENURE                         0\n",
       "EMPLOYMENT_STATUS              0\n",
       "NO_OF_FAMILY_MEMBERS           0\n",
       "RISK_SEGMENTATION              0\n",
       "HOUSE_TYPE                     0\n",
       "SOCIAL_CLASS                   0\n",
       "ROUTING_NUMBER                 0\n",
       "ACCT_NUMBER                    0\n",
       "CUSTOMER_EDUCATION_LEVEL     529\n",
       "CLAIM_STATUS                   0\n",
       "INCIDENT_SEVERITY              0\n",
       "AUTHORITY_CONTACTED            0\n",
       "ANY_INJURY                     0\n",
       "POLICE_REPORT_AVAILABLE        0\n",
       "INCIDENT_STATE                 0\n",
       "INCIDENT_CITY                 46\n",
       "INCIDENT_HOUR_OF_THE_DAY       0\n",
       "AGENT_ID                       0\n",
       "VENDOR_ID                   3245\n",
       "dtype: int64"
      ]
     },
     "execution_count": 15,
     "metadata": {},
     "output_type": "execute_result"
    }
   ],
   "source": [
    "insurance.isna().sum() # missing values per feature"
   ]
  },
  {
   "cell_type": "code",
   "execution_count": 16,
   "metadata": {},
   "outputs": [],
   "source": [
    "#insurance.isna().sum().sum() # number of missing cells"
   ]
  },
  {
   "cell_type": "code",
   "execution_count": 17,
   "metadata": {},
   "outputs": [
    {
     "data": {
      "text/html": [
       "<div>\n",
       "<style scoped>\n",
       "    .dataframe tbody tr th:only-of-type {\n",
       "        vertical-align: middle;\n",
       "    }\n",
       "\n",
       "    .dataframe tbody tr th {\n",
       "        vertical-align: top;\n",
       "    }\n",
       "\n",
       "    .dataframe thead th {\n",
       "        text-align: right;\n",
       "    }\n",
       "</style>\n",
       "<table border=\"1\" class=\"dataframe\">\n",
       "  <thead>\n",
       "    <tr style=\"text-align: right;\">\n",
       "      <th></th>\n",
       "      <th>AGENT_ID</th>\n",
       "      <th>AGENT_NAME</th>\n",
       "      <th>DATE_OF_JOINING</th>\n",
       "      <th>ADDRESS_LINE1</th>\n",
       "      <th>ADDRESS_LINE2</th>\n",
       "      <th>CITY</th>\n",
       "      <th>STATE</th>\n",
       "      <th>POSTAL_CODE</th>\n",
       "      <th>EMP_ROUTING_NUMBER</th>\n",
       "      <th>EMP_ACCT_NUMBER</th>\n",
       "    </tr>\n",
       "  </thead>\n",
       "  <tbody>\n",
       "  </tbody>\n",
       "</table>\n",
       "</div>"
      ],
      "text/plain": [
       "Empty DataFrame\n",
       "Columns: [AGENT_ID, AGENT_NAME, DATE_OF_JOINING, ADDRESS_LINE1, ADDRESS_LINE2, CITY, STATE, POSTAL_CODE, EMP_ROUTING_NUMBER, EMP_ACCT_NUMBER]\n",
       "Index: []"
      ]
     },
     "execution_count": 17,
     "metadata": {},
     "output_type": "execute_result"
    }
   ],
   "source": [
    "employees[employees.duplicated()]"
   ]
  },
  {
   "cell_type": "code",
   "execution_count": 18,
   "metadata": {},
   "outputs": [
    {
     "data": {
      "text/plain": [
       "AGENT_ID                 0\n",
       "AGENT_NAME               0\n",
       "DATE_OF_JOINING          0\n",
       "ADDRESS_LINE1            0\n",
       "ADDRESS_LINE2         1021\n",
       "CITY                     7\n",
       "STATE                    0\n",
       "POSTAL_CODE              0\n",
       "EMP_ROUTING_NUMBER       0\n",
       "EMP_ACCT_NUMBER          0\n",
       "dtype: int64"
      ]
     },
     "execution_count": 18,
     "metadata": {},
     "output_type": "execute_result"
    }
   ],
   "source": [
    "employees.isna().sum() # missing values per feature"
   ]
  },
  {
   "cell_type": "code",
   "execution_count": 19,
   "metadata": {},
   "outputs": [
    {
     "data": {
      "text/html": [
       "<div>\n",
       "<style scoped>\n",
       "    .dataframe tbody tr th:only-of-type {\n",
       "        vertical-align: middle;\n",
       "    }\n",
       "\n",
       "    .dataframe tbody tr th {\n",
       "        vertical-align: top;\n",
       "    }\n",
       "\n",
       "    .dataframe thead th {\n",
       "        text-align: right;\n",
       "    }\n",
       "</style>\n",
       "<table border=\"1\" class=\"dataframe\">\n",
       "  <thead>\n",
       "    <tr style=\"text-align: right;\">\n",
       "      <th></th>\n",
       "      <th>VENDOR_ID</th>\n",
       "      <th>VENDOR_NAME</th>\n",
       "      <th>ADDRESS_LINE1</th>\n",
       "      <th>ADDRESS_LINE2</th>\n",
       "      <th>CITY</th>\n",
       "      <th>STATE</th>\n",
       "      <th>POSTAL_CODE</th>\n",
       "    </tr>\n",
       "  </thead>\n",
       "  <tbody>\n",
       "  </tbody>\n",
       "</table>\n",
       "</div>"
      ],
      "text/plain": [
       "Empty DataFrame\n",
       "Columns: [VENDOR_ID, VENDOR_NAME, ADDRESS_LINE1, ADDRESS_LINE2, CITY, STATE, POSTAL_CODE]\n",
       "Index: []"
      ]
     },
     "execution_count": 19,
     "metadata": {},
     "output_type": "execute_result"
    }
   ],
   "source": [
    "vendors[vendors.duplicated()]"
   ]
  },
  {
   "cell_type": "code",
   "execution_count": 20,
   "metadata": {},
   "outputs": [
    {
     "data": {
      "text/plain": [
       "VENDOR_ID          0\n",
       "VENDOR_NAME        0\n",
       "ADDRESS_LINE1      0\n",
       "ADDRESS_LINE2    503\n",
       "CITY               6\n",
       "STATE              0\n",
       "POSTAL_CODE        0\n",
       "dtype: int64"
      ]
     },
     "execution_count": 20,
     "metadata": {},
     "output_type": "execute_result"
    }
   ],
   "source": [
    "vendors.isna().sum() # missing values per feature"
   ]
  },
  {
   "cell_type": "markdown",
   "metadata": {},
   "source": [
    "Ok, first thing to realize is that there are so many missing values in each data set corresponding to address_line2 columns. Since neither our analysis will consider such level of precission or either not all address have secondary address_line2  it is good idea to drop such columns in each dataset. "
   ]
  },
  {
   "cell_type": "code",
   "execution_count": 21,
   "metadata": {},
   "outputs": [],
   "source": [
    "insurance.drop('ADDRESS_LINE2', axis=1, inplace=True)\n",
    "vendors.drop('ADDRESS_LINE2', axis=1, inplace=True)\n",
    "employees.drop('ADDRESS_LINE2', axis=1, inplace=True)"
   ]
  },
  {
   "cell_type": "markdown",
   "metadata": {},
   "source": [
    "Additionally, for insurance dataset columns containing personal information such as SSN or account number are not good predictors since will be personal and does not have any prediction power."
   ]
  },
  {
   "cell_type": "code",
   "execution_count": 22,
   "metadata": {},
   "outputs": [],
   "source": [
    "insurance.drop(['SSN','ROUTING_NUMBER','ACCT_NUMBER'],axis=1, inplace = True)"
   ]
  },
  {
   "cell_type": "code",
   "execution_count": 23,
   "metadata": {},
   "outputs": [
    {
     "name": "stdout",
     "output_type": "stream",
     "text": [
      "1200 1200\n"
     ]
    }
   ],
   "source": [
    "print(employees['EMP_ROUTING_NUMBER'].nunique(),employees['EMP_ACCT_NUMBER'].nunique()) # number of unique values\n"
   ]
  },
  {
   "cell_type": "markdown",
   "metadata": {},
   "source": [
    "It seems that there are two rows with the same name. Let's check it "
   ]
  },
  {
   "cell_type": "code",
   "execution_count": 24,
   "metadata": {},
   "outputs": [
    {
     "data": {
      "text/html": [
       "<div>\n",
       "<style scoped>\n",
       "    .dataframe tbody tr th:only-of-type {\n",
       "        vertical-align: middle;\n",
       "    }\n",
       "\n",
       "    .dataframe tbody tr th {\n",
       "        vertical-align: top;\n",
       "    }\n",
       "\n",
       "    .dataframe thead th {\n",
       "        text-align: right;\n",
       "    }\n",
       "</style>\n",
       "<table border=\"1\" class=\"dataframe\">\n",
       "  <thead>\n",
       "    <tr style=\"text-align: right;\">\n",
       "      <th></th>\n",
       "      <th>AGENT_ID</th>\n",
       "      <th>AGENT_NAME</th>\n",
       "      <th>DATE_OF_JOINING</th>\n",
       "      <th>ADDRESS_LINE1</th>\n",
       "      <th>CITY</th>\n",
       "      <th>STATE</th>\n",
       "      <th>POSTAL_CODE</th>\n",
       "      <th>EMP_ROUTING_NUMBER</th>\n",
       "      <th>EMP_ACCT_NUMBER</th>\n",
       "    </tr>\n",
       "  </thead>\n",
       "  <tbody>\n",
       "    <tr>\n",
       "      <th>862</th>\n",
       "      <td>AGENT00863</td>\n",
       "      <td>Sarah Brown</td>\n",
       "      <td>1996-06-08</td>\n",
       "      <td>5436 Dorbrandt Street</td>\n",
       "      <td>Anchorage</td>\n",
       "      <td>AK</td>\n",
       "      <td>99518</td>\n",
       "      <td>21384158</td>\n",
       "      <td>OLBB33201159859153</td>\n",
       "    </tr>\n",
       "    <tr>\n",
       "      <th>1126</th>\n",
       "      <td>AGENT01127</td>\n",
       "      <td>Robert Ward</td>\n",
       "      <td>1999-06-02</td>\n",
       "      <td>5150 West Eugie Avenue</td>\n",
       "      <td>Glendale</td>\n",
       "      <td>AZ</td>\n",
       "      <td>85304</td>\n",
       "      <td>31348760</td>\n",
       "      <td>KWFF64231400629759</td>\n",
       "    </tr>\n",
       "  </tbody>\n",
       "</table>\n",
       "</div>"
      ],
      "text/plain": [
       "        AGENT_ID   AGENT_NAME DATE_OF_JOINING           ADDRESS_LINE1  \\\n",
       "862   AGENT00863  Sarah Brown      1996-06-08   5436 Dorbrandt Street   \n",
       "1126  AGENT01127  Robert Ward      1999-06-02  5150 West Eugie Avenue   \n",
       "\n",
       "           CITY STATE  POSTAL_CODE  EMP_ROUTING_NUMBER     EMP_ACCT_NUMBER  \n",
       "862   Anchorage    AK        99518            21384158  OLBB33201159859153  \n",
       "1126   Glendale    AZ        85304            31348760  KWFF64231400629759  "
      ]
     },
     "execution_count": 24,
     "metadata": {},
     "output_type": "execute_result"
    }
   ],
   "source": [
    "employees[employees['AGENT_NAME'].duplicated() == True] # check duplicated rows"
   ]
  },
  {
   "cell_type": "markdown",
   "metadata": {},
   "source": [
    "Since there are not repeating names we can assume that BANK related numbers are personal and drop them due to their lack of predictive power"
   ]
  },
  {
   "cell_type": "code",
   "execution_count": 25,
   "metadata": {},
   "outputs": [],
   "source": [
    "employees.drop(['EMP_ROUTING_NUMBER','EMP_ACCT_NUMBER'],axis=1, inplace = True)"
   ]
  },
  {
   "cell_type": "code",
   "execution_count": 26,
   "metadata": {},
   "outputs": [
    {
     "name": "stdout",
     "output_type": "stream",
     "text": [
      "<class 'pandas.core.frame.DataFrame'>\n",
      "RangeIndex: 10000 entries, 0 to 9999\n",
      "Data columns (total 34 columns):\n",
      " #   Column                    Non-Null Count  Dtype         \n",
      "---  ------                    --------------  -----         \n",
      " 0   TXN_DATE_TIME             10000 non-null  datetime64[ns]\n",
      " 1   TRANSACTION_ID            10000 non-null  object        \n",
      " 2   CUSTOMER_ID               10000 non-null  object        \n",
      " 3   POLICY_NUMBER             10000 non-null  object        \n",
      " 4   POLICY_EFF_DT             10000 non-null  datetime64[ns]\n",
      " 5   LOSS_DT                   10000 non-null  datetime64[ns]\n",
      " 6   REPORT_DT                 10000 non-null  object        \n",
      " 7   INSURANCE_TYPE            10000 non-null  object        \n",
      " 8   PREMIUM_AMOUNT            10000 non-null  float64       \n",
      " 9   CLAIM_AMOUNT              10000 non-null  int64         \n",
      " 10  CUSTOMER_NAME             10000 non-null  object        \n",
      " 11  ADDRESS_LINE1             10000 non-null  object        \n",
      " 12  CITY                      9946 non-null   object        \n",
      " 13  STATE                     10000 non-null  object        \n",
      " 14  POSTAL_CODE               10000 non-null  int64         \n",
      " 15  MARITAL_STATUS            10000 non-null  object        \n",
      " 16  AGE                       10000 non-null  int64         \n",
      " 17  TENURE                    10000 non-null  int64         \n",
      " 18  EMPLOYMENT_STATUS         10000 non-null  object        \n",
      " 19  NO_OF_FAMILY_MEMBERS      10000 non-null  int64         \n",
      " 20  RISK_SEGMENTATION         10000 non-null  object        \n",
      " 21  HOUSE_TYPE                10000 non-null  object        \n",
      " 22  SOCIAL_CLASS              10000 non-null  object        \n",
      " 23  CUSTOMER_EDUCATION_LEVEL  9471 non-null   object        \n",
      " 24  CLAIM_STATUS              10000 non-null  object        \n",
      " 25  INCIDENT_SEVERITY         10000 non-null  object        \n",
      " 26  AUTHORITY_CONTACTED       10000 non-null  object        \n",
      " 27  ANY_INJURY                10000 non-null  int64         \n",
      " 28  POLICE_REPORT_AVAILABLE   10000 non-null  int64         \n",
      " 29  INCIDENT_STATE            10000 non-null  object        \n",
      " 30  INCIDENT_CITY             9954 non-null   object        \n",
      " 31  INCIDENT_HOUR_OF_THE_DAY  10000 non-null  int64         \n",
      " 32  AGENT_ID                  10000 non-null  object        \n",
      " 33  VENDOR_ID                 6755 non-null   object        \n",
      "dtypes: datetime64[ns](3), float64(1), int64(8), object(22)\n",
      "memory usage: 2.6+ MB\n"
     ]
    }
   ],
   "source": [
    "insurance.info()"
   ]
  },
  {
   "cell_type": "code",
   "execution_count": 27,
   "metadata": {},
   "outputs": [
    {
     "name": "stdout",
     "output_type": "stream",
     "text": [
      "<class 'pandas.core.frame.DataFrame'>\n",
      "RangeIndex: 1200 entries, 0 to 1199\n",
      "Data columns (total 7 columns):\n",
      " #   Column           Non-Null Count  Dtype         \n",
      "---  ------           --------------  -----         \n",
      " 0   AGENT_ID         1200 non-null   object        \n",
      " 1   AGENT_NAME       1200 non-null   object        \n",
      " 2   DATE_OF_JOINING  1200 non-null   datetime64[ns]\n",
      " 3   ADDRESS_LINE1    1200 non-null   object        \n",
      " 4   CITY             1193 non-null   object        \n",
      " 5   STATE            1200 non-null   object        \n",
      " 6   POSTAL_CODE      1200 non-null   int64         \n",
      "dtypes: datetime64[ns](1), int64(1), object(5)\n",
      "memory usage: 65.8+ KB\n"
     ]
    }
   ],
   "source": [
    "employees.info()"
   ]
  },
  {
   "cell_type": "code",
   "execution_count": 28,
   "metadata": {},
   "outputs": [
    {
     "name": "stdout",
     "output_type": "stream",
     "text": [
      "<class 'pandas.core.frame.DataFrame'>\n",
      "RangeIndex: 600 entries, 0 to 599\n",
      "Data columns (total 6 columns):\n",
      " #   Column         Non-Null Count  Dtype \n",
      "---  ------         --------------  ----- \n",
      " 0   VENDOR_ID      600 non-null    object\n",
      " 1   VENDOR_NAME    600 non-null    object\n",
      " 2   ADDRESS_LINE1  600 non-null    object\n",
      " 3   CITY           594 non-null    object\n",
      " 4   STATE          600 non-null    object\n",
      " 5   POSTAL_CODE    600 non-null    int64 \n",
      "dtypes: int64(1), object(5)\n",
      "memory usage: 28.2+ KB\n"
     ]
    }
   ],
   "source": [
    "vendors.info()"
   ]
  },
  {
   "cell_type": "markdown",
   "metadata": {},
   "source": [
    "Now, let's change the data type for certain categories"
   ]
  },
  {
   "cell_type": "code",
   "execution_count": 29,
   "metadata": {},
   "outputs": [],
   "source": [
    "insurance['RISK_SEGMENTATION']= insurance['RISK_SEGMENTATION'].astype('category')\n",
    "insurance['INSURANCE_TYPE']= insurance['INSURANCE_TYPE'].astype('category')\n",
    "insurance['MARITAL_STATUS'] = insurance['MARITAL_STATUS'].astype('category')\n",
    "insurance['SOCIAL_CLASS']= insurance['SOCIAL_CLASS'].astype('category')"
   ]
  },
  {
   "cell_type": "markdown",
   "metadata": {},
   "source": [
    "# DataSet : Insurance"
   ]
  },
  {
   "cell_type": "code",
   "execution_count": 30,
   "metadata": {},
   "outputs": [
    {
     "data": {
      "text/plain": [
       "TXN_DATE_TIME                  0\n",
       "TRANSACTION_ID                 0\n",
       "CUSTOMER_ID                    0\n",
       "POLICY_NUMBER                  0\n",
       "POLICY_EFF_DT                  0\n",
       "LOSS_DT                        0\n",
       "REPORT_DT                      0\n",
       "INSURANCE_TYPE                 0\n",
       "PREMIUM_AMOUNT                 0\n",
       "CLAIM_AMOUNT                   0\n",
       "CUSTOMER_NAME                  0\n",
       "ADDRESS_LINE1                  0\n",
       "CITY                          54\n",
       "STATE                          0\n",
       "POSTAL_CODE                    0\n",
       "MARITAL_STATUS                 0\n",
       "AGE                            0\n",
       "TENURE                         0\n",
       "EMPLOYMENT_STATUS              0\n",
       "NO_OF_FAMILY_MEMBERS           0\n",
       "RISK_SEGMENTATION              0\n",
       "HOUSE_TYPE                     0\n",
       "SOCIAL_CLASS                   0\n",
       "CUSTOMER_EDUCATION_LEVEL     529\n",
       "CLAIM_STATUS                   0\n",
       "INCIDENT_SEVERITY              0\n",
       "AUTHORITY_CONTACTED            0\n",
       "ANY_INJURY                     0\n",
       "POLICE_REPORT_AVAILABLE        0\n",
       "INCIDENT_STATE                 0\n",
       "INCIDENT_CITY                 46\n",
       "INCIDENT_HOUR_OF_THE_DAY       0\n",
       "AGENT_ID                       0\n",
       "VENDOR_ID                   3245\n",
       "dtype: int64"
      ]
     },
     "execution_count": 30,
     "metadata": {},
     "output_type": "execute_result"
    }
   ],
   "source": [
    "insurance.isna().sum()\n",
    "\n"
   ]
  },
  {
   "cell_type": "code",
   "execution_count": 31,
   "metadata": {},
   "outputs": [
    {
     "data": {
      "text/plain": [
       "CA    1035\n",
       "CO     677\n",
       "FL     650\n",
       "AR     644\n",
       "TN     641\n",
       "AL     623\n",
       "GA     613\n",
       "AZ     603\n",
       "CT     594\n",
       "KY     581\n",
       "DC     581\n",
       "VT     579\n",
       "MD     576\n",
       "MA     549\n",
       "OK     531\n",
       "AK     523\n",
       "Name: STATE, dtype: int64"
      ]
     },
     "execution_count": 31,
     "metadata": {},
     "output_type": "execute_result"
    }
   ],
   "source": [
    "insurance['STATE'].value_counts()"
   ]
  },
  {
   "cell_type": "code",
   "execution_count": 32,
   "metadata": {},
   "outputs": [
    {
     "data": {
      "text/plain": [
       "Burlington           26\n",
       "Rutland              24\n",
       "Hartford             22\n",
       "Barre                22\n",
       "Saint Albans City    20\n",
       "                     ..\n",
       "Townshend             1\n",
       "Fairfax               1\n",
       "Derby                 1\n",
       "East Haven            1\n",
       "Wilmington            1\n",
       "Name: CITY, Length: 91, dtype: int64"
      ]
     },
     "execution_count": 32,
     "metadata": {},
     "output_type": "execute_result"
    }
   ],
   "source": [
    "insurance[insurance['STATE']=='VT']['CITY'].value_counts()"
   ]
  },
  {
   "cell_type": "code",
   "execution_count": 33,
   "metadata": {},
   "outputs": [
    {
     "data": {
      "text/plain": [
       "AGENT_ID           0\n",
       "AGENT_NAME         0\n",
       "DATE_OF_JOINING    0\n",
       "ADDRESS_LINE1      0\n",
       "CITY               7\n",
       "STATE              0\n",
       "POSTAL_CODE        0\n",
       "dtype: int64"
      ]
     },
     "execution_count": 33,
     "metadata": {},
     "output_type": "execute_result"
    }
   ],
   "source": [
    "employees.isna().sum()"
   ]
  },
  {
   "cell_type": "code",
   "execution_count": 34,
   "metadata": {},
   "outputs": [
    {
     "data": {
      "text/html": [
       "<div>\n",
       "<style scoped>\n",
       "    .dataframe tbody tr th:only-of-type {\n",
       "        vertical-align: middle;\n",
       "    }\n",
       "\n",
       "    .dataframe tbody tr th {\n",
       "        vertical-align: top;\n",
       "    }\n",
       "\n",
       "    .dataframe thead th {\n",
       "        text-align: right;\n",
       "    }\n",
       "</style>\n",
       "<table border=\"1\" class=\"dataframe\">\n",
       "  <thead>\n",
       "    <tr style=\"text-align: right;\">\n",
       "      <th></th>\n",
       "      <th>AGENT_ID</th>\n",
       "      <th>AGENT_NAME</th>\n",
       "      <th>DATE_OF_JOINING</th>\n",
       "      <th>ADDRESS_LINE1</th>\n",
       "      <th>CITY</th>\n",
       "      <th>STATE</th>\n",
       "      <th>POSTAL_CODE</th>\n",
       "    </tr>\n",
       "  </thead>\n",
       "  <tbody>\n",
       "    <tr>\n",
       "      <th>22</th>\n",
       "      <td>AGENT00023</td>\n",
       "      <td>Amy Venice</td>\n",
       "      <td>2009-12-11</td>\n",
       "      <td>386 Pratt Road</td>\n",
       "      <td>NaN</td>\n",
       "      <td>VT</td>\n",
       "      <td>5033</td>\n",
       "    </tr>\n",
       "    <tr>\n",
       "      <th>140</th>\n",
       "      <td>AGENT00141</td>\n",
       "      <td>Mike Cress</td>\n",
       "      <td>2003-04-18</td>\n",
       "      <td>71 Racine Road</td>\n",
       "      <td>NaN</td>\n",
       "      <td>VT</td>\n",
       "      <td>5468</td>\n",
       "    </tr>\n",
       "    <tr>\n",
       "      <th>268</th>\n",
       "      <td>AGENT00269</td>\n",
       "      <td>Lorraine Johnson</td>\n",
       "      <td>2011-09-27</td>\n",
       "      <td>114 Middle Road</td>\n",
       "      <td>NaN</td>\n",
       "      <td>VT</td>\n",
       "      <td>5488</td>\n",
       "    </tr>\n",
       "    <tr>\n",
       "      <th>411</th>\n",
       "      <td>AGENT00412</td>\n",
       "      <td>Sondra Roder</td>\n",
       "      <td>2000-02-15</td>\n",
       "      <td>386 Pratt Road</td>\n",
       "      <td>NaN</td>\n",
       "      <td>VT</td>\n",
       "      <td>5033</td>\n",
       "    </tr>\n",
       "    <tr>\n",
       "      <th>646</th>\n",
       "      <td>AGENT00647</td>\n",
       "      <td>Jefferson Tadlock</td>\n",
       "      <td>2006-07-19</td>\n",
       "      <td>16 Clark Street</td>\n",
       "      <td>NaN</td>\n",
       "      <td>VT</td>\n",
       "      <td>5150</td>\n",
       "    </tr>\n",
       "    <tr>\n",
       "      <th>720</th>\n",
       "      <td>AGENT00721</td>\n",
       "      <td>Martin Murphy</td>\n",
       "      <td>2016-01-31</td>\n",
       "      <td>942 Lewis Road</td>\n",
       "      <td>NaN</td>\n",
       "      <td>CA</td>\n",
       "      <td>95076</td>\n",
       "    </tr>\n",
       "    <tr>\n",
       "      <th>954</th>\n",
       "      <td>AGENT00955</td>\n",
       "      <td>Bryan Dondero</td>\n",
       "      <td>2011-11-22</td>\n",
       "      <td>386 Pratt Road</td>\n",
       "      <td>NaN</td>\n",
       "      <td>VT</td>\n",
       "      <td>5033</td>\n",
       "    </tr>\n",
       "  </tbody>\n",
       "</table>\n",
       "</div>"
      ],
      "text/plain": [
       "       AGENT_ID         AGENT_NAME DATE_OF_JOINING    ADDRESS_LINE1 CITY  \\\n",
       "22   AGENT00023         Amy Venice      2009-12-11   386 Pratt Road  NaN   \n",
       "140  AGENT00141         Mike Cress      2003-04-18   71 Racine Road  NaN   \n",
       "268  AGENT00269   Lorraine Johnson      2011-09-27  114 Middle Road  NaN   \n",
       "411  AGENT00412       Sondra Roder      2000-02-15   386 Pratt Road  NaN   \n",
       "646  AGENT00647  Jefferson Tadlock      2006-07-19  16 Clark Street  NaN   \n",
       "720  AGENT00721      Martin Murphy      2016-01-31   942 Lewis Road  NaN   \n",
       "954  AGENT00955      Bryan Dondero      2011-11-22   386 Pratt Road  NaN   \n",
       "\n",
       "    STATE  POSTAL_CODE  \n",
       "22     VT         5033  \n",
       "140    VT         5468  \n",
       "268    VT         5488  \n",
       "411    VT         5033  \n",
       "646    VT         5150  \n",
       "720    CA        95076  \n",
       "954    VT         5033  "
      ]
     },
     "execution_count": 34,
     "metadata": {},
     "output_type": "execute_result"
    }
   ],
   "source": [
    "employees[employees['CITY'].isna()]"
   ]
  },
  {
   "cell_type": "code",
   "execution_count": 35,
   "metadata": {},
   "outputs": [],
   "source": [
    "#employees['whole_address'] = employees['ADDRESS_LINE1']  + ', ' + employees['STATE'] + ', ' + employees['POSTAL_CODE'].astype(str)"
   ]
  },
  {
   "cell_type": "code",
   "execution_count": 36,
   "metadata": {},
   "outputs": [],
   "source": [
    "#employees[employees['CITY'].isna()]['whole_address']"
   ]
  },
  {
   "cell_type": "code",
   "execution_count": 90,
   "metadata": {},
   "outputs": [],
   "source": [
    "## Initialize gogole maps API\n",
    "import googlemaps\n",
    "api_file = open(\"../insurance_prediction/api-key.txt\",'r')\n",
    "api_key = api_file.read()\n",
    "api_file.close()\n",
    "gmaps_key = googlemaps.Client(key = api_key)\n",
    "\n",
    "# change the api key after today"
   ]
  },
  {
   "cell_type": "code",
   "execution_count": 38,
   "metadata": {},
   "outputs": [],
   "source": [
    "def imput_bygmaps(data, col_missing, col_given, gmaps_key):\n",
    "    ## Implement Gmaps API to retrieve values for the cities using complementary information of address.\n",
    "    #  and turn them back again to the dataframe\n",
    "\n",
    "    df = data.copy() # We rather use a copy to first check if the function works as expected\n",
    "    missing_values = df[df[col_missing].isna()]# Query rows for a particular column that has nan values['whole_address']\n",
    "    missing_v_index = missing_values.index.to_list() # Use a list to store the index of rows that need to be imputed. \n",
    "\n",
    "    for index in missing_v_index :\n",
    "        # Include if loop since for certain postal codes if we dont include the cero at the beginning, \n",
    "        # it falsely retrieves the name of the city\n",
    "        if (missing_values.loc[index, 'POSTAL_CODE'] < 10000):\n",
    "            # construct a full address to use with gmaps api \n",
    "            address = missing_values.loc[index, 'ADDRESS_LINE1']  + ', ' + missing_values.loc[index, col_given] + ', 0' + str(missing_values.loc[index, 'POSTAL_CODE'])\n",
    "        else:\n",
    "            # construct a full address to use with gmaps api \n",
    "            address = missing_values.loc[index, 'ADDRESS_LINE1']  + ', ' + missing_values.loc[index, col_given] + ', ' + str(missing_values.loc[index, 'POSTAL_CODE'])\n",
    "        # Use geocode API to get information about the verified address\n",
    "        g = gmaps_key.geocode(address)\n",
    "        try:\n",
    "            # Retrieve full address for json output of the API. \n",
    "            # Normally comes in the format of 'Address, City, State Postal Code, Country'\n",
    "            formatted_address = g[0]['formatted_address'].split(', ')\n",
    "            # Retrieve only the City name\n",
    "            city = formatted_address[1]\n",
    "            # replace value in the dataframe\n",
    "            df.loc[index, col_missing] = city\n",
    "        except:\n",
    "            print('City not found for index: ', index)\n",
    "    return df"
   ]
  },
  {
   "cell_type": "code",
   "execution_count": 91,
   "metadata": {},
   "outputs": [],
   "source": [
    "employess_1 = imput_bygmaps(data = employees, col_missing = 'CITY', col_given = 'STATE',  gmaps_key = gmaps_key)"
   ]
  },
  {
   "cell_type": "code",
   "execution_count": 40,
   "metadata": {},
   "outputs": [
    {
     "name": "stdout",
     "output_type": "stream",
     "text": [
      "The recovereed city is : Bradford\n",
      "The address withouth the city is: 386 Pratt Road, VT, 5033\n",
      "The recovereed city is : Milton\n",
      "The address withouth the city is: 71 Racine Road, VT, 5468\n",
      "The recovereed city is : Swanton\n",
      "The address withouth the city is: 114 Middle Road, VT, 5488\n",
      "The recovereed city is : Bradford\n",
      "The address withouth the city is: 386 Pratt Road, VT, 5033\n",
      "The recovereed city is : North Springfield\n",
      "The address withouth the city is: 16 Clark Street, VT, 5150\n",
      "The recovereed city is : Royal Oaks\n",
      "The address withouth the city is: 942 Lewis Road, CA, 95076\n",
      "The recovereed city is : Bradford\n",
      "The address withouth the city is: 386 Pratt Road, VT, 5033\n"
     ]
    }
   ],
   "source": [
    "for index in employees[employees['CITY'].isna()].index.to_list() :\n",
    "    print('The recovereed city is : '+ employess_1.loc[index, 'CITY'])\n",
    "    print('The address withouth the city is: ' + employess_1.loc[index, 'ADDRESS_LINE1']+', '+employess_1.loc[index, 'STATE']+', '+ str(employess_1.loc[index, 'POSTAL_CODE'])) "
   ]
  },
  {
   "cell_type": "code",
   "execution_count": 41,
   "metadata": {},
   "outputs": [],
   "source": [
    "insurance_1 = imput_bygmaps(data = insurance, col_missing = 'CITY', col_given = 'STATE', gmaps_key = gmaps_key)"
   ]
  },
  {
   "cell_type": "code",
   "execution_count": 42,
   "metadata": {},
   "outputs": [
    {
     "name": "stdout",
     "output_type": "stream",
     "text": [
      "The recovereed city is : Ludlow\n",
      "The address withouth the city is: 68 Route 66, VT, 5149\n",
      "The recovereed city is : Baltimore\n",
      "The address withouth the city is: 7529 Perryman Court, MD, 21226\n",
      "The recovereed city is : Brandon\n",
      "The address withouth the city is: 8 Corona Street, VT, 5733\n",
      "The recovereed city is : Springfield\n",
      "The address withouth the city is: 178 Connecticut River Road, VT, 5156\n",
      "The recovereed city is : Milton\n",
      "The address withouth the city is: 8 Watkins Road, VT, 5468\n",
      "The recovereed city is : Joelton\n",
      "The address withouth the city is: 5707 Higdon Road, TN, 37080\n",
      "The recovereed city is : Jericho\n",
      "The address withouth the city is: 29 White Oak Drive, VT, 5465\n",
      "The recovereed city is : Jericho\n",
      "The address withouth the city is: 29 White Oak Drive, VT, 5465\n",
      "The recovereed city is : Ludlow\n",
      "The address withouth the city is: 68 Route 66, VT, 5149\n",
      "The recovereed city is : Swanton\n",
      "The address withouth the city is: 114 Middle Road, VT, 5488\n",
      "The recovereed city is : Royal Oaks\n",
      "The address withouth the city is: 942 Lewis Road, CA, 95076\n",
      "The recovereed city is : Swanton\n",
      "The address withouth the city is: 9 Brooklyn Street, VT, 5488\n",
      "The recovereed city is : Milton\n",
      "The address withouth the city is: 3 Southerberry Drive, VT, 5468\n",
      "The recovereed city is : Middlebury\n",
      "The address withouth the city is: 388 East Main Street, VT, 5753\n",
      "The recovereed city is : Baltimore\n",
      "The address withouth the city is: 7529 Perryman Court, MD, 21226\n",
      "The recovereed city is : Springfield\n",
      "The address withouth the city is: 178 Connecticut River Road, VT, 5156\n",
      "The recovereed city is : Middlebury\n",
      "The address withouth the city is: 388 East Main Street, VT, 5753\n",
      "The recovereed city is : Middlebury\n",
      "The address withouth the city is: 388 East Main Street, VT, 5753\n",
      "The recovereed city is : Swanton\n",
      "The address withouth the city is: 9 Brooklyn Street, VT, 5488\n",
      "The recovereed city is : Swanton\n",
      "The address withouth the city is: 95 Woods Hill Road, VT, 5488\n",
      "The recovereed city is : Milton\n",
      "The address withouth the city is: 3 Southerberry Drive, VT, 5468\n",
      "The recovereed city is : Swanton\n",
      "The address withouth the city is: 114 Middle Road, VT, 5488\n",
      "The recovereed city is : Milton\n",
      "The address withouth the city is: 71 Racine Road, VT, 5468\n",
      "The recovereed city is : North Springfield\n",
      "The address withouth the city is: 16 Clark Street, VT, 5150\n",
      "The recovereed city is : Swanton\n",
      "The address withouth the city is: 114 Middle Road, VT, 5488\n",
      "The recovereed city is : Bristol\n",
      "The address withouth the city is: 270 Chrissy's Court, VT, 5443\n",
      "The recovereed city is : Milton\n",
      "The address withouth the city is: 8 Watkins Road, VT, 5468\n",
      "The recovereed city is : Swanton\n",
      "The address withouth the city is: 95 Woods Hill Road, VT, 5488\n",
      "The recovereed city is : Brandon\n",
      "The address withouth the city is: 8 Corona Street, VT, 5733\n",
      "The recovereed city is : Ludlow\n",
      "The address withouth the city is: 68 Route 66, VT, 5149\n",
      "The recovereed city is : Middlebury\n",
      "The address withouth the city is: 388 East Main Street, VT, 5753\n",
      "The recovereed city is : Ludlow\n",
      "The address withouth the city is: 68 Route 66, VT, 5149\n",
      "The recovereed city is : North Springfield\n",
      "The address withouth the city is: 16 Clark Street, VT, 5150\n",
      "The recovereed city is : Ludlow\n",
      "The address withouth the city is: 68 Route 66, VT, 5149\n",
      "The recovereed city is : Joelton\n",
      "The address withouth the city is: 5707 Higdon Road, TN, 37080\n",
      "The recovereed city is : Cabot\n",
      "The address withouth the city is: 841 Whittier Hill Road, VT, 5647\n",
      "The recovereed city is : Cabot\n",
      "The address withouth the city is: 841 Whittier Hill Road, VT, 5647\n",
      "The recovereed city is : Milton\n",
      "The address withouth the city is: 8 Watkins Road, VT, 5468\n",
      "The recovereed city is : Swanton\n",
      "The address withouth the city is: 95 Woods Hill Road, VT, 5488\n",
      "The recovereed city is : Swanton\n",
      "The address withouth the city is: 114 Middle Road, VT, 5488\n",
      "The recovereed city is : Swanton\n",
      "The address withouth the city is: 114 Middle Road, VT, 5488\n",
      "The recovereed city is : Ludlow\n",
      "The address withouth the city is: 68 Route 66, VT, 5149\n",
      "The recovereed city is : Arlington\n",
      "The address withouth the city is: 82 Roys Road, VT, 5250\n",
      "The recovereed city is : Swanton\n",
      "The address withouth the city is: 9 Brooklyn Street, VT, 5488\n",
      "The recovereed city is : Baltimore\n",
      "The address withouth the city is: 7529 Perryman Court, MD, 21226\n",
      "The recovereed city is : Brandon\n",
      "The address withouth the city is: 8 Corona Street, VT, 5733\n",
      "The recovereed city is : Bradford\n",
      "The address withouth the city is: 386 Pratt Road, VT, 5033\n",
      "The recovereed city is : Bristol\n",
      "The address withouth the city is: 270 Chrissy's Court, VT, 5443\n",
      "The recovereed city is : Baltimore\n",
      "The address withouth the city is: 7529 Perryman Court, MD, 21226\n",
      "The recovereed city is : Swanton\n",
      "The address withouth the city is: 9 Brooklyn Street, VT, 5488\n",
      "The recovereed city is : Baltimore\n",
      "The address withouth the city is: 7529 Perryman Court, MD, 21226\n",
      "The recovereed city is : Milton\n",
      "The address withouth the city is: 3 Southerberry Drive, VT, 5468\n",
      "The recovereed city is : Ludlow\n",
      "The address withouth the city is: 68 Route 66, VT, 5149\n",
      "The recovereed city is : Baltimore\n",
      "The address withouth the city is: 7529 Perryman Court, MD, 21226\n"
     ]
    }
   ],
   "source": [
    "for index in insurance[insurance['CITY'].isna()].index.to_list() :\n",
    "    print('The recovereed city is : '+ insurance_1.loc[index, 'CITY'])\n",
    "    print('The address withouth the city is: ' + insurance_1.loc[index, 'ADDRESS_LINE1']+', '+insurance_1.loc[index, 'STATE']+', '+ str(insurance_1.loc[index, 'POSTAL_CODE'])) "
   ]
  },
  {
   "cell_type": "code",
   "execution_count": 43,
   "metadata": {},
   "outputs": [
    {
     "data": {
      "text/plain": [
       "CA    46\n",
       "AK    40\n",
       "AR    40\n",
       "CO    38\n",
       "VT    38\n",
       "CT    35\n",
       "AZ    35\n",
       "MD    34\n",
       "FL    33\n",
       "TN    31\n",
       "DC    29\n",
       "AL    29\n",
       "MA    29\n",
       "GA    29\n",
       "KY    27\n",
       "OK    16\n",
       "Name: STATE, dtype: int64"
      ]
     },
     "execution_count": 43,
     "metadata": {},
     "output_type": "execute_result"
    }
   ],
   "source": [
    "insurance_1[insurance_1['CUSTOMER_EDUCATION_LEVEL'].isna()]['STATE'].value_counts()\n"
   ]
  },
  {
   "cell_type": "code",
   "execution_count": 44,
   "metadata": {},
   "outputs": [
    {
     "data": {
      "text/plain": [
       "STATE  CITY        \n",
       "AK     Anchorage       39\n",
       "AR     Fayetteville    39\n",
       "CT     Manchester      35\n",
       "CO     Arvada          31\n",
       "TN     Nashville       31\n",
       "                       ..\n",
       "KY     Plantation       1\n",
       "GA     Pooler           1\n",
       "FL     Tampa            1\n",
       "       Punta Gorda      1\n",
       "VT     Westmore         1\n",
       "Name: CITY, Length: 126, dtype: int64"
      ]
     },
     "execution_count": 44,
     "metadata": {},
     "output_type": "execute_result"
    }
   ],
   "source": [
    "insurance_1[insurance_1['CUSTOMER_EDUCATION_LEVEL'].isna()].groupby('STATE')['CITY'].value_counts().sort_values(ascending=False)"
   ]
  },
  {
   "cell_type": "code",
   "execution_count": 45,
   "metadata": {},
   "outputs": [],
   "source": [
    "# #INSURANCE_TYPE                 0\n",
    "# PREMIUM_AMOUNT                 0\n",
    "# CLAIM_AMOUNT                   0\n",
    "# CUSTOMER_NAME                  0\n",
    "# ADDRESS_LINE1                  0\n",
    "# CITY                          54\n",
    "# STATE                          0\n",
    "# POSTAL_CODE                    0\n",
    "# MARITAL_STATUS                 0\n",
    "# AGE                            0\n",
    "# TENURE                         0\n",
    "# EMPLOYMENT_STATUS              0\n",
    "# NO_OF_FAMILY_MEMBERS           0\n",
    "# RISK_SEGMENTATION              0\n",
    "# HOUSE_TYPE                     0\n",
    "# SOCIAL_CLASS                   0\n",
    "# CUSTOMER_EDUCATION_LEVEL     529\n",
    "# CLAIM_STATUS                   0\n",
    "# INCIDENT_SEVERITY              0\n",
    "# AUTHORITY_CONTACTED            0\n",
    "# ANY_INJURY                     0\n",
    "# POLICE_REPORT_AVAILABLE        0"
   ]
  },
  {
   "cell_type": "code",
   "execution_count": 46,
   "metadata": {},
   "outputs": [],
   "source": [
    "insurance_1['CUSTOMER_EDUCATION_LEVEL'].fillna('Not Provided', inplace = True)\n"
   ]
  },
  {
   "cell_type": "code",
   "execution_count": 47,
   "metadata": {},
   "outputs": [
    {
     "data": {
      "text/plain": [
       "TXN_DATE_TIME                  0\n",
       "TRANSACTION_ID                 0\n",
       "CUSTOMER_ID                    0\n",
       "POLICY_NUMBER                  0\n",
       "POLICY_EFF_DT                  0\n",
       "LOSS_DT                        0\n",
       "REPORT_DT                      0\n",
       "INSURANCE_TYPE                 0\n",
       "PREMIUM_AMOUNT                 0\n",
       "CLAIM_AMOUNT                   0\n",
       "CUSTOMER_NAME                  0\n",
       "ADDRESS_LINE1                  0\n",
       "CITY                           0\n",
       "STATE                          0\n",
       "POSTAL_CODE                    0\n",
       "MARITAL_STATUS                 0\n",
       "AGE                            0\n",
       "TENURE                         0\n",
       "EMPLOYMENT_STATUS              0\n",
       "NO_OF_FAMILY_MEMBERS           0\n",
       "RISK_SEGMENTATION              0\n",
       "HOUSE_TYPE                     0\n",
       "SOCIAL_CLASS                   0\n",
       "CUSTOMER_EDUCATION_LEVEL       0\n",
       "CLAIM_STATUS                   0\n",
       "INCIDENT_SEVERITY              0\n",
       "AUTHORITY_CONTACTED            0\n",
       "ANY_INJURY                     0\n",
       "POLICE_REPORT_AVAILABLE        0\n",
       "INCIDENT_STATE                 0\n",
       "INCIDENT_CITY                 46\n",
       "INCIDENT_HOUR_OF_THE_DAY       0\n",
       "AGENT_ID                       0\n",
       "VENDOR_ID                   3245\n",
       "dtype: int64"
      ]
     },
     "execution_count": 47,
     "metadata": {},
     "output_type": "execute_result"
    }
   ],
   "source": [
    "insurance_1.isna().sum()"
   ]
  },
  {
   "cell_type": "code",
   "execution_count": 48,
   "metadata": {},
   "outputs": [],
   "source": [
    "insurance_1['INCIDENT_CITY'].fillna('Not Provided', inplace = True)"
   ]
  },
  {
   "cell_type": "code",
   "execution_count": 49,
   "metadata": {},
   "outputs": [],
   "source": [
    "insurance_1['VENDOR_ID'].fillna('Unknown', inplace = True)"
   ]
  },
  {
   "cell_type": "markdown",
   "metadata": {},
   "source": [
    "# Data Merging"
   ]
  },
  {
   "cell_type": "markdown",
   "metadata": {},
   "source": [
    "We are going to create a single data set. We will start merging employees and insurance dataframes. AGENT_ID has no nan values as expected since they are involved directly in every claim. We are interested in the insurance fraud detection so we will make a left join so we can retain all the records from the claims dataset"
   ]
  },
  {
   "cell_type": "code",
   "execution_count": 50,
   "metadata": {},
   "outputs": [],
   "source": [
    "merged_data1= pd.merge(insurance_1, employess_1, on = 'AGENT_ID', how = 'left', suffixes=('', '_emp'))"
   ]
  },
  {
   "cell_type": "code",
   "execution_count": 51,
   "metadata": {},
   "outputs": [],
   "source": [
    "final_merged_data = pd.merge(merged_data1, vendors, on = 'VENDOR_ID', how = 'left', suffixes=('', '_ven'))"
   ]
  },
  {
   "cell_type": "code",
   "execution_count": 52,
   "metadata": {},
   "outputs": [
    {
     "data": {
      "text/html": [
       "<div>\n",
       "<style scoped>\n",
       "    .dataframe tbody tr th:only-of-type {\n",
       "        vertical-align: middle;\n",
       "    }\n",
       "\n",
       "    .dataframe tbody tr th {\n",
       "        vertical-align: top;\n",
       "    }\n",
       "\n",
       "    .dataframe thead th {\n",
       "        text-align: right;\n",
       "    }\n",
       "</style>\n",
       "<table border=\"1\" class=\"dataframe\">\n",
       "  <thead>\n",
       "    <tr style=\"text-align: right;\">\n",
       "      <th></th>\n",
       "      <th>TXN_DATE_TIME</th>\n",
       "      <th>TRANSACTION_ID</th>\n",
       "      <th>CUSTOMER_ID</th>\n",
       "      <th>POLICY_NUMBER</th>\n",
       "      <th>POLICY_EFF_DT</th>\n",
       "      <th>LOSS_DT</th>\n",
       "      <th>REPORT_DT</th>\n",
       "      <th>INSURANCE_TYPE</th>\n",
       "      <th>PREMIUM_AMOUNT</th>\n",
       "      <th>CLAIM_AMOUNT</th>\n",
       "      <th>...</th>\n",
       "      <th>DATE_OF_JOINING</th>\n",
       "      <th>ADDRESS_LINE1_emp</th>\n",
       "      <th>CITY_emp</th>\n",
       "      <th>STATE_emp</th>\n",
       "      <th>POSTAL_CODE_emp</th>\n",
       "      <th>VENDOR_NAME</th>\n",
       "      <th>ADDRESS_LINE1_ven</th>\n",
       "      <th>CITY_ven</th>\n",
       "      <th>STATE_ven</th>\n",
       "      <th>POSTAL_CODE_ven</th>\n",
       "    </tr>\n",
       "  </thead>\n",
       "  <tbody>\n",
       "    <tr>\n",
       "      <th>0</th>\n",
       "      <td>2020-06-01</td>\n",
       "      <td>TXN00000001</td>\n",
       "      <td>A00003822</td>\n",
       "      <td>PLC00008468</td>\n",
       "      <td>2015-06-23</td>\n",
       "      <td>2020-05-16</td>\n",
       "      <td>2020-05-21</td>\n",
       "      <td>Health</td>\n",
       "      <td>157.13</td>\n",
       "      <td>9000</td>\n",
       "      <td>...</td>\n",
       "      <td>1994-01-06</td>\n",
       "      <td>584 Rural Hill Road</td>\n",
       "      <td>Nashville</td>\n",
       "      <td>TN</td>\n",
       "      <td>37217</td>\n",
       "      <td>Ramsey Inc</td>\n",
       "      <td>3114 West 20th Court</td>\n",
       "      <td>Panama City</td>\n",
       "      <td>FL</td>\n",
       "      <td>32405.0</td>\n",
       "    </tr>\n",
       "    <tr>\n",
       "      <th>1</th>\n",
       "      <td>2020-06-01</td>\n",
       "      <td>TXN00000002</td>\n",
       "      <td>A00008149</td>\n",
       "      <td>PLC00009594</td>\n",
       "      <td>2018-04-21</td>\n",
       "      <td>2020-05-13</td>\n",
       "      <td>2020-05-18</td>\n",
       "      <td>Property</td>\n",
       "      <td>141.71</td>\n",
       "      <td>26000</td>\n",
       "      <td>...</td>\n",
       "      <td>2004-05-28</td>\n",
       "      <td>6114 West Glenn Drive</td>\n",
       "      <td>Glendale</td>\n",
       "      <td>AZ</td>\n",
       "      <td>85301</td>\n",
       "      <td>Morales, Campbell and Washington</td>\n",
       "      <td>42 West Louise Street</td>\n",
       "      <td>Fayetteville</td>\n",
       "      <td>AR</td>\n",
       "      <td>72701.0</td>\n",
       "    </tr>\n",
       "    <tr>\n",
       "      <th>2</th>\n",
       "      <td>2020-06-01</td>\n",
       "      <td>TXN00000003</td>\n",
       "      <td>A00003172</td>\n",
       "      <td>PLC00007969</td>\n",
       "      <td>2019-10-03</td>\n",
       "      <td>2020-05-21</td>\n",
       "      <td>2020-05-26</td>\n",
       "      <td>Property</td>\n",
       "      <td>157.24</td>\n",
       "      <td>13000</td>\n",
       "      <td>...</td>\n",
       "      <td>2004-08-01</td>\n",
       "      <td>2500 Snowdoun Chambers Road</td>\n",
       "      <td>Montgomery</td>\n",
       "      <td>AL</td>\n",
       "      <td>36105</td>\n",
       "      <td>Johnson Ltd</td>\n",
       "      <td>2619 North Quality Lane</td>\n",
       "      <td>Fayetteville</td>\n",
       "      <td>AR</td>\n",
       "      <td>72703.0</td>\n",
       "    </tr>\n",
       "    <tr>\n",
       "      <th>3</th>\n",
       "      <td>2020-06-01</td>\n",
       "      <td>TXN00000004</td>\n",
       "      <td>A00007572</td>\n",
       "      <td>PLC00009292</td>\n",
       "      <td>2016-11-29</td>\n",
       "      <td>2020-05-14</td>\n",
       "      <td>2020-05-19</td>\n",
       "      <td>Health</td>\n",
       "      <td>172.87</td>\n",
       "      <td>16000</td>\n",
       "      <td>...</td>\n",
       "      <td>2007-06-12</td>\n",
       "      <td>313 Lone Oak Drive</td>\n",
       "      <td>Norman</td>\n",
       "      <td>OK</td>\n",
       "      <td>73071</td>\n",
       "      <td>Blackwell-Foster</td>\n",
       "      <td>3609 Meadow Drive</td>\n",
       "      <td>Nashville</td>\n",
       "      <td>TN</td>\n",
       "      <td>37215.0</td>\n",
       "    </tr>\n",
       "    <tr>\n",
       "      <th>4</th>\n",
       "      <td>2020-06-01</td>\n",
       "      <td>TXN00000005</td>\n",
       "      <td>A00008173</td>\n",
       "      <td>PLC00000204</td>\n",
       "      <td>2011-12-26</td>\n",
       "      <td>2020-05-17</td>\n",
       "      <td>2020-05-22</td>\n",
       "      <td>Travel</td>\n",
       "      <td>88.53</td>\n",
       "      <td>3000</td>\n",
       "      <td>...</td>\n",
       "      <td>2010-01-19</td>\n",
       "      <td>120 Wells Avenue</td>\n",
       "      <td>Glen Burnie</td>\n",
       "      <td>MD</td>\n",
       "      <td>21061</td>\n",
       "      <td>Evans-Scott</td>\n",
       "      <td>4001 19th Place Northeast</td>\n",
       "      <td>Washington</td>\n",
       "      <td>DC</td>\n",
       "      <td>20018.0</td>\n",
       "    </tr>\n",
       "  </tbody>\n",
       "</table>\n",
       "<p>5 rows × 45 columns</p>\n",
       "</div>"
      ],
      "text/plain": [
       "  TXN_DATE_TIME TRANSACTION_ID CUSTOMER_ID POLICY_NUMBER POLICY_EFF_DT  \\\n",
       "0    2020-06-01    TXN00000001   A00003822   PLC00008468    2015-06-23   \n",
       "1    2020-06-01    TXN00000002   A00008149   PLC00009594    2018-04-21   \n",
       "2    2020-06-01    TXN00000003   A00003172   PLC00007969    2019-10-03   \n",
       "3    2020-06-01    TXN00000004   A00007572   PLC00009292    2016-11-29   \n",
       "4    2020-06-01    TXN00000005   A00008173   PLC00000204    2011-12-26   \n",
       "\n",
       "     LOSS_DT   REPORT_DT INSURANCE_TYPE  PREMIUM_AMOUNT  CLAIM_AMOUNT  ...  \\\n",
       "0 2020-05-16  2020-05-21         Health          157.13          9000  ...   \n",
       "1 2020-05-13  2020-05-18       Property          141.71         26000  ...   \n",
       "2 2020-05-21  2020-05-26       Property          157.24         13000  ...   \n",
       "3 2020-05-14  2020-05-19         Health          172.87         16000  ...   \n",
       "4 2020-05-17  2020-05-22         Travel           88.53          3000  ...   \n",
       "\n",
       "  DATE_OF_JOINING            ADDRESS_LINE1_emp     CITY_emp STATE_emp  \\\n",
       "0      1994-01-06          584 Rural Hill Road    Nashville        TN   \n",
       "1      2004-05-28        6114 West Glenn Drive     Glendale        AZ   \n",
       "2      2004-08-01  2500 Snowdoun Chambers Road   Montgomery        AL   \n",
       "3      2007-06-12           313 Lone Oak Drive       Norman        OK   \n",
       "4      2010-01-19             120 Wells Avenue  Glen Burnie        MD   \n",
       "\n",
       "   POSTAL_CODE_emp                       VENDOR_NAME  \\\n",
       "0            37217                        Ramsey Inc   \n",
       "1            85301  Morales, Campbell and Washington   \n",
       "2            36105                       Johnson Ltd   \n",
       "3            73071                  Blackwell-Foster   \n",
       "4            21061                       Evans-Scott   \n",
       "\n",
       "           ADDRESS_LINE1_ven      CITY_ven STATE_ven  POSTAL_CODE_ven  \n",
       "0       3114 West 20th Court   Panama City        FL          32405.0  \n",
       "1      42 West Louise Street  Fayetteville        AR          72701.0  \n",
       "2    2619 North Quality Lane  Fayetteville        AR          72703.0  \n",
       "3          3609 Meadow Drive     Nashville        TN          37215.0  \n",
       "4  4001 19th Place Northeast    Washington        DC          20018.0  \n",
       "\n",
       "[5 rows x 45 columns]"
      ]
     },
     "execution_count": 52,
     "metadata": {},
     "output_type": "execute_result"
    }
   ],
   "source": [
    "final_merged_data.head(5)"
   ]
  },
  {
   "cell_type": "code",
   "execution_count": 53,
   "metadata": {},
   "outputs": [
    {
     "name": "stdout",
     "output_type": "stream",
     "text": [
      "<class 'pandas.core.frame.DataFrame'>\n",
      "Int64Index: 10000 entries, 0 to 9999\n",
      "Data columns (total 45 columns):\n",
      " #   Column                    Non-Null Count  Dtype         \n",
      "---  ------                    --------------  -----         \n",
      " 0   TXN_DATE_TIME             10000 non-null  datetime64[ns]\n",
      " 1   TRANSACTION_ID            10000 non-null  object        \n",
      " 2   CUSTOMER_ID               10000 non-null  object        \n",
      " 3   POLICY_NUMBER             10000 non-null  object        \n",
      " 4   POLICY_EFF_DT             10000 non-null  datetime64[ns]\n",
      " 5   LOSS_DT                   10000 non-null  datetime64[ns]\n",
      " 6   REPORT_DT                 10000 non-null  object        \n",
      " 7   INSURANCE_TYPE            10000 non-null  category      \n",
      " 8   PREMIUM_AMOUNT            10000 non-null  float64       \n",
      " 9   CLAIM_AMOUNT              10000 non-null  int64         \n",
      " 10  CUSTOMER_NAME             10000 non-null  object        \n",
      " 11  ADDRESS_LINE1             10000 non-null  object        \n",
      " 12  CITY                      10000 non-null  object        \n",
      " 13  STATE                     10000 non-null  object        \n",
      " 14  POSTAL_CODE               10000 non-null  int64         \n",
      " 15  MARITAL_STATUS            10000 non-null  category      \n",
      " 16  AGE                       10000 non-null  int64         \n",
      " 17  TENURE                    10000 non-null  int64         \n",
      " 18  EMPLOYMENT_STATUS         10000 non-null  object        \n",
      " 19  NO_OF_FAMILY_MEMBERS      10000 non-null  int64         \n",
      " 20  RISK_SEGMENTATION         10000 non-null  category      \n",
      " 21  HOUSE_TYPE                10000 non-null  object        \n",
      " 22  SOCIAL_CLASS              10000 non-null  category      \n",
      " 23  CUSTOMER_EDUCATION_LEVEL  10000 non-null  object        \n",
      " 24  CLAIM_STATUS              10000 non-null  object        \n",
      " 25  INCIDENT_SEVERITY         10000 non-null  object        \n",
      " 26  AUTHORITY_CONTACTED       10000 non-null  object        \n",
      " 27  ANY_INJURY                10000 non-null  int64         \n",
      " 28  POLICE_REPORT_AVAILABLE   10000 non-null  int64         \n",
      " 29  INCIDENT_STATE            10000 non-null  object        \n",
      " 30  INCIDENT_CITY             10000 non-null  object        \n",
      " 31  INCIDENT_HOUR_OF_THE_DAY  10000 non-null  int64         \n",
      " 32  AGENT_ID                  10000 non-null  object        \n",
      " 33  VENDOR_ID                 10000 non-null  object        \n",
      " 34  AGENT_NAME                10000 non-null  object        \n",
      " 35  DATE_OF_JOINING           10000 non-null  datetime64[ns]\n",
      " 36  ADDRESS_LINE1_emp         10000 non-null  object        \n",
      " 37  CITY_emp                  10000 non-null  object        \n",
      " 38  STATE_emp                 10000 non-null  object        \n",
      " 39  POSTAL_CODE_emp           10000 non-null  int64         \n",
      " 40  VENDOR_NAME               6755 non-null   object        \n",
      " 41  ADDRESS_LINE1_ven         6755 non-null   object        \n",
      " 42  CITY_ven                  6713 non-null   object        \n",
      " 43  STATE_ven                 6755 non-null   object        \n",
      " 44  POSTAL_CODE_ven           6755 non-null   float64       \n",
      "dtypes: category(4), datetime64[ns](4), float64(2), int64(9), object(26)\n",
      "memory usage: 3.2+ MB\n"
     ]
    }
   ],
   "source": [
    "final_merged_data.info()"
   ]
  },
  {
   "cell_type": "code",
   "execution_count": 54,
   "metadata": {},
   "outputs": [],
   "source": [
    "final_merged_data['POSTAL_CODE_ven'] = final_merged_data['POSTAL_CODE_ven'].astype('Int64')"
   ]
  },
  {
   "cell_type": "code",
   "execution_count": 55,
   "metadata": {},
   "outputs": [],
   "source": [
    "final_merged_data['ANY_INJURY'] = final_merged_data['ANY_INJURY'].astype('category')\n",
    "final_merged_data['POLICE_REPORT_AVAILABLE'] = final_merged_data['POLICE_REPORT_AVAILABLE'].astype('category')\n",
    "final_merged_data['ANY_INJURY'] = final_merged_data['ANY_INJURY'].replace({0: 'No', 1: 'Yes'})\n",
    "final_merged_data['POLICE_REPORT_AVAILABLE'] = final_merged_data['POLICE_REPORT_AVAILABLE'].replace({0: 'No', 1: 'Yes'})"
   ]
  },
  {
   "cell_type": "code",
   "execution_count": 56,
   "metadata": {},
   "outputs": [
    {
     "name": "stdout",
     "output_type": "stream",
     "text": [
      "<class 'pandas.core.frame.DataFrame'>\n",
      "Int64Index: 10000 entries, 0 to 9999\n",
      "Data columns (total 45 columns):\n",
      " #   Column                    Non-Null Count  Dtype         \n",
      "---  ------                    --------------  -----         \n",
      " 0   TXN_DATE_TIME             10000 non-null  datetime64[ns]\n",
      " 1   TRANSACTION_ID            10000 non-null  object        \n",
      " 2   CUSTOMER_ID               10000 non-null  object        \n",
      " 3   POLICY_NUMBER             10000 non-null  object        \n",
      " 4   POLICY_EFF_DT             10000 non-null  datetime64[ns]\n",
      " 5   LOSS_DT                   10000 non-null  datetime64[ns]\n",
      " 6   REPORT_DT                 10000 non-null  object        \n",
      " 7   INSURANCE_TYPE            10000 non-null  category      \n",
      " 8   PREMIUM_AMOUNT            10000 non-null  float64       \n",
      " 9   CLAIM_AMOUNT              10000 non-null  int64         \n",
      " 10  CUSTOMER_NAME             10000 non-null  object        \n",
      " 11  ADDRESS_LINE1             10000 non-null  object        \n",
      " 12  CITY                      10000 non-null  object        \n",
      " 13  STATE                     10000 non-null  object        \n",
      " 14  POSTAL_CODE               10000 non-null  int64         \n",
      " 15  MARITAL_STATUS            10000 non-null  category      \n",
      " 16  AGE                       10000 non-null  int64         \n",
      " 17  TENURE                    10000 non-null  int64         \n",
      " 18  EMPLOYMENT_STATUS         10000 non-null  object        \n",
      " 19  NO_OF_FAMILY_MEMBERS      10000 non-null  int64         \n",
      " 20  RISK_SEGMENTATION         10000 non-null  category      \n",
      " 21  HOUSE_TYPE                10000 non-null  object        \n",
      " 22  SOCIAL_CLASS              10000 non-null  category      \n",
      " 23  CUSTOMER_EDUCATION_LEVEL  10000 non-null  object        \n",
      " 24  CLAIM_STATUS              10000 non-null  object        \n",
      " 25  INCIDENT_SEVERITY         10000 non-null  object        \n",
      " 26  AUTHORITY_CONTACTED       10000 non-null  object        \n",
      " 27  ANY_INJURY                10000 non-null  category      \n",
      " 28  POLICE_REPORT_AVAILABLE   10000 non-null  category      \n",
      " 29  INCIDENT_STATE            10000 non-null  object        \n",
      " 30  INCIDENT_CITY             10000 non-null  object        \n",
      " 31  INCIDENT_HOUR_OF_THE_DAY  10000 non-null  int64         \n",
      " 32  AGENT_ID                  10000 non-null  object        \n",
      " 33  VENDOR_ID                 10000 non-null  object        \n",
      " 34  AGENT_NAME                10000 non-null  object        \n",
      " 35  DATE_OF_JOINING           10000 non-null  datetime64[ns]\n",
      " 36  ADDRESS_LINE1_emp         10000 non-null  object        \n",
      " 37  CITY_emp                  10000 non-null  object        \n",
      " 38  STATE_emp                 10000 non-null  object        \n",
      " 39  POSTAL_CODE_emp           10000 non-null  int64         \n",
      " 40  VENDOR_NAME               6755 non-null   object        \n",
      " 41  ADDRESS_LINE1_ven         6755 non-null   object        \n",
      " 42  CITY_ven                  6713 non-null   object        \n",
      " 43  STATE_ven                 6755 non-null   object        \n",
      " 44  POSTAL_CODE_ven           6755 non-null   Int64         \n",
      "dtypes: Int64(1), category(6), datetime64[ns](4), float64(1), int64(7), object(26)\n",
      "memory usage: 3.1+ MB\n"
     ]
    }
   ],
   "source": [
    "final_merged_data.info()"
   ]
  },
  {
   "cell_type": "markdown",
   "metadata": {},
   "source": [
    "For the moment and before droping the columns that have unknown values, we are going to assign a new categoryt to them to perform an exploratory data analysis"
   ]
  },
  {
   "cell_type": "markdown",
   "metadata": {},
   "source": [
    "We also transformed zip codes into strings since they are not numeric or measurable values in which we can"
   ]
  },
  {
   "cell_type": "code",
   "execution_count": 57,
   "metadata": {},
   "outputs": [
    {
     "name": "stdout",
     "output_type": "stream",
     "text": [
      "object\n",
      "object\n",
      "object\n"
     ]
    }
   ],
   "source": [
    "for column in ['POSTAL_CODE','POSTAL_CODE_emp','POSTAL_CODE_ven']:\n",
    "    final_merged_data[column] = final_merged_data[column].astype(str)\n",
    "   #print(final_merged_data[column].dtype)\n",
    "    final_merged_data[column] = final_merged_data[column].apply(lambda x: '0' + x if len(x) < 5 else x)\n",
    "    print(final_merged_data[column].dtype)"
   ]
  },
  {
   "cell_type": "code",
   "execution_count": 58,
   "metadata": {},
   "outputs": [
    {
     "data": {
      "text/html": [
       "<div>\n",
       "<style scoped>\n",
       "    .dataframe tbody tr th:only-of-type {\n",
       "        vertical-align: middle;\n",
       "    }\n",
       "\n",
       "    .dataframe tbody tr th {\n",
       "        vertical-align: top;\n",
       "    }\n",
       "\n",
       "    .dataframe thead th {\n",
       "        text-align: right;\n",
       "    }\n",
       "</style>\n",
       "<table border=\"1\" class=\"dataframe\">\n",
       "  <thead>\n",
       "    <tr style=\"text-align: right;\">\n",
       "      <th></th>\n",
       "      <th>TXN_DATE_TIME</th>\n",
       "      <th>TRANSACTION_ID</th>\n",
       "      <th>CUSTOMER_ID</th>\n",
       "      <th>POLICY_NUMBER</th>\n",
       "      <th>POLICY_EFF_DT</th>\n",
       "      <th>LOSS_DT</th>\n",
       "      <th>REPORT_DT</th>\n",
       "      <th>INSURANCE_TYPE</th>\n",
       "      <th>PREMIUM_AMOUNT</th>\n",
       "      <th>CLAIM_AMOUNT</th>\n",
       "      <th>...</th>\n",
       "      <th>DATE_OF_JOINING</th>\n",
       "      <th>ADDRESS_LINE1_emp</th>\n",
       "      <th>CITY_emp</th>\n",
       "      <th>STATE_emp</th>\n",
       "      <th>POSTAL_CODE_emp</th>\n",
       "      <th>VENDOR_NAME</th>\n",
       "      <th>ADDRESS_LINE1_ven</th>\n",
       "      <th>CITY_ven</th>\n",
       "      <th>STATE_ven</th>\n",
       "      <th>POSTAL_CODE_ven</th>\n",
       "    </tr>\n",
       "  </thead>\n",
       "  <tbody>\n",
       "    <tr>\n",
       "      <th>0</th>\n",
       "      <td>2020-06-01</td>\n",
       "      <td>TXN00000001</td>\n",
       "      <td>A00003822</td>\n",
       "      <td>PLC00008468</td>\n",
       "      <td>2015-06-23</td>\n",
       "      <td>2020-05-16</td>\n",
       "      <td>2020-05-21</td>\n",
       "      <td>Health</td>\n",
       "      <td>157.13</td>\n",
       "      <td>9000</td>\n",
       "      <td>...</td>\n",
       "      <td>1994-01-06</td>\n",
       "      <td>584 Rural Hill Road</td>\n",
       "      <td>Nashville</td>\n",
       "      <td>TN</td>\n",
       "      <td>37217</td>\n",
       "      <td>Ramsey Inc</td>\n",
       "      <td>3114 West 20th Court</td>\n",
       "      <td>Panama City</td>\n",
       "      <td>FL</td>\n",
       "      <td>32405</td>\n",
       "    </tr>\n",
       "    <tr>\n",
       "      <th>1</th>\n",
       "      <td>2020-06-01</td>\n",
       "      <td>TXN00000002</td>\n",
       "      <td>A00008149</td>\n",
       "      <td>PLC00009594</td>\n",
       "      <td>2018-04-21</td>\n",
       "      <td>2020-05-13</td>\n",
       "      <td>2020-05-18</td>\n",
       "      <td>Property</td>\n",
       "      <td>141.71</td>\n",
       "      <td>26000</td>\n",
       "      <td>...</td>\n",
       "      <td>2004-05-28</td>\n",
       "      <td>6114 West Glenn Drive</td>\n",
       "      <td>Glendale</td>\n",
       "      <td>AZ</td>\n",
       "      <td>85301</td>\n",
       "      <td>Morales, Campbell and Washington</td>\n",
       "      <td>42 West Louise Street</td>\n",
       "      <td>Fayetteville</td>\n",
       "      <td>AR</td>\n",
       "      <td>72701</td>\n",
       "    </tr>\n",
       "    <tr>\n",
       "      <th>2</th>\n",
       "      <td>2020-06-01</td>\n",
       "      <td>TXN00000003</td>\n",
       "      <td>A00003172</td>\n",
       "      <td>PLC00007969</td>\n",
       "      <td>2019-10-03</td>\n",
       "      <td>2020-05-21</td>\n",
       "      <td>2020-05-26</td>\n",
       "      <td>Property</td>\n",
       "      <td>157.24</td>\n",
       "      <td>13000</td>\n",
       "      <td>...</td>\n",
       "      <td>2004-08-01</td>\n",
       "      <td>2500 Snowdoun Chambers Road</td>\n",
       "      <td>Montgomery</td>\n",
       "      <td>AL</td>\n",
       "      <td>36105</td>\n",
       "      <td>Johnson Ltd</td>\n",
       "      <td>2619 North Quality Lane</td>\n",
       "      <td>Fayetteville</td>\n",
       "      <td>AR</td>\n",
       "      <td>72703</td>\n",
       "    </tr>\n",
       "    <tr>\n",
       "      <th>3</th>\n",
       "      <td>2020-06-01</td>\n",
       "      <td>TXN00000004</td>\n",
       "      <td>A00007572</td>\n",
       "      <td>PLC00009292</td>\n",
       "      <td>2016-11-29</td>\n",
       "      <td>2020-05-14</td>\n",
       "      <td>2020-05-19</td>\n",
       "      <td>Health</td>\n",
       "      <td>172.87</td>\n",
       "      <td>16000</td>\n",
       "      <td>...</td>\n",
       "      <td>2007-06-12</td>\n",
       "      <td>313 Lone Oak Drive</td>\n",
       "      <td>Norman</td>\n",
       "      <td>OK</td>\n",
       "      <td>73071</td>\n",
       "      <td>Blackwell-Foster</td>\n",
       "      <td>3609 Meadow Drive</td>\n",
       "      <td>Nashville</td>\n",
       "      <td>TN</td>\n",
       "      <td>37215</td>\n",
       "    </tr>\n",
       "    <tr>\n",
       "      <th>4</th>\n",
       "      <td>2020-06-01</td>\n",
       "      <td>TXN00000005</td>\n",
       "      <td>A00008173</td>\n",
       "      <td>PLC00000204</td>\n",
       "      <td>2011-12-26</td>\n",
       "      <td>2020-05-17</td>\n",
       "      <td>2020-05-22</td>\n",
       "      <td>Travel</td>\n",
       "      <td>88.53</td>\n",
       "      <td>3000</td>\n",
       "      <td>...</td>\n",
       "      <td>2010-01-19</td>\n",
       "      <td>120 Wells Avenue</td>\n",
       "      <td>Glen Burnie</td>\n",
       "      <td>MD</td>\n",
       "      <td>21061</td>\n",
       "      <td>Evans-Scott</td>\n",
       "      <td>4001 19th Place Northeast</td>\n",
       "      <td>Washington</td>\n",
       "      <td>DC</td>\n",
       "      <td>20018</td>\n",
       "    </tr>\n",
       "  </tbody>\n",
       "</table>\n",
       "<p>5 rows × 45 columns</p>\n",
       "</div>"
      ],
      "text/plain": [
       "  TXN_DATE_TIME TRANSACTION_ID CUSTOMER_ID POLICY_NUMBER POLICY_EFF_DT  \\\n",
       "0    2020-06-01    TXN00000001   A00003822   PLC00008468    2015-06-23   \n",
       "1    2020-06-01    TXN00000002   A00008149   PLC00009594    2018-04-21   \n",
       "2    2020-06-01    TXN00000003   A00003172   PLC00007969    2019-10-03   \n",
       "3    2020-06-01    TXN00000004   A00007572   PLC00009292    2016-11-29   \n",
       "4    2020-06-01    TXN00000005   A00008173   PLC00000204    2011-12-26   \n",
       "\n",
       "     LOSS_DT   REPORT_DT INSURANCE_TYPE  PREMIUM_AMOUNT  CLAIM_AMOUNT  ...  \\\n",
       "0 2020-05-16  2020-05-21         Health          157.13          9000  ...   \n",
       "1 2020-05-13  2020-05-18       Property          141.71         26000  ...   \n",
       "2 2020-05-21  2020-05-26       Property          157.24         13000  ...   \n",
       "3 2020-05-14  2020-05-19         Health          172.87         16000  ...   \n",
       "4 2020-05-17  2020-05-22         Travel           88.53          3000  ...   \n",
       "\n",
       "  DATE_OF_JOINING            ADDRESS_LINE1_emp     CITY_emp STATE_emp  \\\n",
       "0      1994-01-06          584 Rural Hill Road    Nashville        TN   \n",
       "1      2004-05-28        6114 West Glenn Drive     Glendale        AZ   \n",
       "2      2004-08-01  2500 Snowdoun Chambers Road   Montgomery        AL   \n",
       "3      2007-06-12           313 Lone Oak Drive       Norman        OK   \n",
       "4      2010-01-19             120 Wells Avenue  Glen Burnie        MD   \n",
       "\n",
       "  POSTAL_CODE_emp                       VENDOR_NAME  \\\n",
       "0           37217                        Ramsey Inc   \n",
       "1           85301  Morales, Campbell and Washington   \n",
       "2           36105                       Johnson Ltd   \n",
       "3           73071                  Blackwell-Foster   \n",
       "4           21061                       Evans-Scott   \n",
       "\n",
       "           ADDRESS_LINE1_ven      CITY_ven STATE_ven  POSTAL_CODE_ven  \n",
       "0       3114 West 20th Court   Panama City        FL            32405  \n",
       "1      42 West Louise Street  Fayetteville        AR            72701  \n",
       "2    2619 North Quality Lane  Fayetteville        AR            72703  \n",
       "3          3609 Meadow Drive     Nashville        TN            37215  \n",
       "4  4001 19th Place Northeast    Washington        DC            20018  \n",
       "\n",
       "[5 rows x 45 columns]"
      ]
     },
     "execution_count": 58,
     "metadata": {},
     "output_type": "execute_result"
    }
   ],
   "source": [
    "final_merged_data.head()"
   ]
  },
  {
   "cell_type": "markdown",
   "metadata": {},
   "source": [
    "### Exploratory Data analysis"
   ]
  },
  {
   "cell_type": "markdown",
   "metadata": {},
   "source": []
  },
  {
   "cell_type": "code",
   "execution_count": 59,
   "metadata": {},
   "outputs": [
    {
     "name": "stdout",
     "output_type": "stream",
     "text": [
      "<class 'pandas.core.frame.DataFrame'>\n",
      "Int64Index: 10000 entries, 0 to 9999\n",
      "Data columns (total 45 columns):\n",
      " #   Column                    Non-Null Count  Dtype         \n",
      "---  ------                    --------------  -----         \n",
      " 0   TXN_DATE_TIME             10000 non-null  datetime64[ns]\n",
      " 1   TRANSACTION_ID            10000 non-null  object        \n",
      " 2   CUSTOMER_ID               10000 non-null  object        \n",
      " 3   POLICY_NUMBER             10000 non-null  object        \n",
      " 4   POLICY_EFF_DT             10000 non-null  datetime64[ns]\n",
      " 5   LOSS_DT                   10000 non-null  datetime64[ns]\n",
      " 6   REPORT_DT                 10000 non-null  object        \n",
      " 7   INSURANCE_TYPE            10000 non-null  category      \n",
      " 8   PREMIUM_AMOUNT            10000 non-null  float64       \n",
      " 9   CLAIM_AMOUNT              10000 non-null  int64         \n",
      " 10  CUSTOMER_NAME             10000 non-null  object        \n",
      " 11  ADDRESS_LINE1             10000 non-null  object        \n",
      " 12  CITY                      10000 non-null  object        \n",
      " 13  STATE                     10000 non-null  object        \n",
      " 14  POSTAL_CODE               10000 non-null  object        \n",
      " 15  MARITAL_STATUS            10000 non-null  category      \n",
      " 16  AGE                       10000 non-null  int64         \n",
      " 17  TENURE                    10000 non-null  int64         \n",
      " 18  EMPLOYMENT_STATUS         10000 non-null  object        \n",
      " 19  NO_OF_FAMILY_MEMBERS      10000 non-null  int64         \n",
      " 20  RISK_SEGMENTATION         10000 non-null  category      \n",
      " 21  HOUSE_TYPE                10000 non-null  object        \n",
      " 22  SOCIAL_CLASS              10000 non-null  category      \n",
      " 23  CUSTOMER_EDUCATION_LEVEL  10000 non-null  object        \n",
      " 24  CLAIM_STATUS              10000 non-null  object        \n",
      " 25  INCIDENT_SEVERITY         10000 non-null  object        \n",
      " 26  AUTHORITY_CONTACTED       10000 non-null  object        \n",
      " 27  ANY_INJURY                10000 non-null  category      \n",
      " 28  POLICE_REPORT_AVAILABLE   10000 non-null  category      \n",
      " 29  INCIDENT_STATE            10000 non-null  object        \n",
      " 30  INCIDENT_CITY             10000 non-null  object        \n",
      " 31  INCIDENT_HOUR_OF_THE_DAY  10000 non-null  int64         \n",
      " 32  AGENT_ID                  10000 non-null  object        \n",
      " 33  VENDOR_ID                 10000 non-null  object        \n",
      " 34  AGENT_NAME                10000 non-null  object        \n",
      " 35  DATE_OF_JOINING           10000 non-null  datetime64[ns]\n",
      " 36  ADDRESS_LINE1_emp         10000 non-null  object        \n",
      " 37  CITY_emp                  10000 non-null  object        \n",
      " 38  STATE_emp                 10000 non-null  object        \n",
      " 39  POSTAL_CODE_emp           10000 non-null  object        \n",
      " 40  VENDOR_NAME               6755 non-null   object        \n",
      " 41  ADDRESS_LINE1_ven         6755 non-null   object        \n",
      " 42  CITY_ven                  6713 non-null   object        \n",
      " 43  STATE_ven                 6755 non-null   object        \n",
      " 44  POSTAL_CODE_ven           10000 non-null  object        \n",
      "dtypes: category(6), datetime64[ns](4), float64(1), int64(5), object(29)\n",
      "memory usage: 3.1+ MB\n"
     ]
    }
   ],
   "source": [
    "final_merged_data.info()"
   ]
  },
  {
   "cell_type": "code",
   "execution_count": 60,
   "metadata": {},
   "outputs": [
    {
     "data": {
      "text/html": [
       "<div>\n",
       "<style scoped>\n",
       "    .dataframe tbody tr th:only-of-type {\n",
       "        vertical-align: middle;\n",
       "    }\n",
       "\n",
       "    .dataframe tbody tr th {\n",
       "        vertical-align: top;\n",
       "    }\n",
       "\n",
       "    .dataframe thead th {\n",
       "        text-align: right;\n",
       "    }\n",
       "</style>\n",
       "<table border=\"1\" class=\"dataframe\">\n",
       "  <thead>\n",
       "    <tr style=\"text-align: right;\">\n",
       "      <th></th>\n",
       "      <th>PREMIUM_AMOUNT</th>\n",
       "      <th>CLAIM_AMOUNT</th>\n",
       "      <th>AGE</th>\n",
       "      <th>TENURE</th>\n",
       "      <th>NO_OF_FAMILY_MEMBERS</th>\n",
       "      <th>INCIDENT_HOUR_OF_THE_DAY</th>\n",
       "    </tr>\n",
       "  </thead>\n",
       "  <tbody>\n",
       "    <tr>\n",
       "      <th>count</th>\n",
       "      <td>10000.000000</td>\n",
       "      <td>10000.000000</td>\n",
       "      <td>10000.000000</td>\n",
       "      <td>10000.000000</td>\n",
       "      <td>10000.000000</td>\n",
       "      <td>10000.000000</td>\n",
       "    </tr>\n",
       "    <tr>\n",
       "      <th>mean</th>\n",
       "      <td>88.508595</td>\n",
       "      <td>16563.830000</td>\n",
       "      <td>44.466100</td>\n",
       "      <td>62.949800</td>\n",
       "      <td>4.488400</td>\n",
       "      <td>11.604000</td>\n",
       "    </tr>\n",
       "    <tr>\n",
       "      <th>std</th>\n",
       "      <td>48.315874</td>\n",
       "      <td>22037.489735</td>\n",
       "      <td>11.516827</td>\n",
       "      <td>32.890604</td>\n",
       "      <td>1.712588</td>\n",
       "      <td>6.877101</td>\n",
       "    </tr>\n",
       "    <tr>\n",
       "      <th>min</th>\n",
       "      <td>6.000000</td>\n",
       "      <td>100.000000</td>\n",
       "      <td>25.000000</td>\n",
       "      <td>6.000000</td>\n",
       "      <td>2.000000</td>\n",
       "      <td>0.000000</td>\n",
       "    </tr>\n",
       "    <tr>\n",
       "      <th>25%</th>\n",
       "      <td>62.015000</td>\n",
       "      <td>2000.000000</td>\n",
       "      <td>34.000000</td>\n",
       "      <td>34.000000</td>\n",
       "      <td>3.000000</td>\n",
       "      <td>6.000000</td>\n",
       "    </tr>\n",
       "    <tr>\n",
       "      <th>50%</th>\n",
       "      <td>88.835000</td>\n",
       "      <td>7000.000000</td>\n",
       "      <td>45.000000</td>\n",
       "      <td>64.000000</td>\n",
       "      <td>4.000000</td>\n",
       "      <td>12.000000</td>\n",
       "    </tr>\n",
       "    <tr>\n",
       "      <th>75%</th>\n",
       "      <td>121.902500</td>\n",
       "      <td>21000.000000</td>\n",
       "      <td>54.000000</td>\n",
       "      <td>92.000000</td>\n",
       "      <td>6.000000</td>\n",
       "      <td>18.000000</td>\n",
       "    </tr>\n",
       "    <tr>\n",
       "      <th>max</th>\n",
       "      <td>200.000000</td>\n",
       "      <td>100000.000000</td>\n",
       "      <td>64.000000</td>\n",
       "      <td>119.000000</td>\n",
       "      <td>7.000000</td>\n",
       "      <td>23.000000</td>\n",
       "    </tr>\n",
       "  </tbody>\n",
       "</table>\n",
       "</div>"
      ],
      "text/plain": [
       "       PREMIUM_AMOUNT   CLAIM_AMOUNT           AGE        TENURE  \\\n",
       "count    10000.000000   10000.000000  10000.000000  10000.000000   \n",
       "mean        88.508595   16563.830000     44.466100     62.949800   \n",
       "std         48.315874   22037.489735     11.516827     32.890604   \n",
       "min          6.000000     100.000000     25.000000      6.000000   \n",
       "25%         62.015000    2000.000000     34.000000     34.000000   \n",
       "50%         88.835000    7000.000000     45.000000     64.000000   \n",
       "75%        121.902500   21000.000000     54.000000     92.000000   \n",
       "max        200.000000  100000.000000     64.000000    119.000000   \n",
       "\n",
       "       NO_OF_FAMILY_MEMBERS  INCIDENT_HOUR_OF_THE_DAY  \n",
       "count          10000.000000              10000.000000  \n",
       "mean               4.488400                 11.604000  \n",
       "std                1.712588                  6.877101  \n",
       "min                2.000000                  0.000000  \n",
       "25%                3.000000                  6.000000  \n",
       "50%                4.000000                 12.000000  \n",
       "75%                6.000000                 18.000000  \n",
       "max                7.000000                 23.000000  "
      ]
     },
     "execution_count": 60,
     "metadata": {},
     "output_type": "execute_result"
    }
   ],
   "source": [
    "final_merged_data.describe()"
   ]
  },
  {
   "cell_type": "code",
   "execution_count": 61,
   "metadata": {},
   "outputs": [],
   "source": [
    "sns.set_theme(style=\"whitegrid\")\n",
    "\n",
    "# Set figure size\n"
   ]
  },
  {
   "cell_type": "code",
   "execution_count": 62,
   "metadata": {},
   "outputs": [
    {
     "data": {
      "image/png": "[encoded data removed]",
      "text/plain": [
       "<Figure size 432x288 with 1 Axes>"
      ]
     },
     "metadata": {},
     "output_type": "display_data"
    },
    {
     "data": {
      "text/plain": [
       "<Figure size 720x432 with 0 Axes>"
      ]
     },
     "metadata": {},
     "output_type": "display_data"
    }
   ],
   "source": [
    "ax = sns.histplot(final_merged_data['AGE'], bins = 20)\n",
    "plt.figure(figsize=(10, 6))\n",
    "ax.set(xlabel='Age of clients', ylabel='Count', title='Age distribution of clients')\n",
    "plt.show()\n"
   ]
  },
  {
   "cell_type": "markdown",
   "metadata": {},
   "source": [
    "We can see the age distribution in our data set is very uniform and they range from 25 to 64 years. With a mean of 44 years"
   ]
  },
  {
   "cell_type": "code",
   "execution_count": 63,
   "metadata": {},
   "outputs": [
    {
     "data": {
      "image/png": "[encoded data removed]",
      "text/plain": [
       "<Figure size 432x288 with 1 Axes>"
      ]
     },
     "metadata": {},
     "output_type": "display_data"
    },
    {
     "data": {
      "text/plain": [
       "<Figure size 720x432 with 0 Axes>"
      ]
     },
     "metadata": {},
     "output_type": "display_data"
    }
   ],
   "source": [
    "ax = sns.histplot(final_merged_data['TENURE'], bins = 30)\n",
    "plt.figure(figsize=(10, 6))\n",
    "ax.set(xlabel='Number of months', ylabel='Count', title='Tenure distribution of clients in months')\n",
    "plt.show()"
   ]
  },
  {
   "cell_type": "markdown",
   "metadata": {},
   "source": [
    "Analyzing the number of months of tenure that the clients have, we can appreaciate that it is more or less uniform with a mean of 64 months or 5 years. However, it seems that there are some patterns indicating that in intervals of a year and half clients tend to drop their or cancel their premium. "
   ]
  },
  {
   "cell_type": "code",
   "execution_count": 64,
   "metadata": {},
   "outputs": [
    {
     "data": {
      "image/png": "[encoded data removed]",
      "text/plain": [
       "<Figure size 432x288 with 1 Axes>"
      ]
     },
     "metadata": {},
     "output_type": "display_data"
    },
    {
     "data": {
      "text/plain": [
       "<Figure size 720x432 with 0 Axes>"
      ]
     },
     "metadata": {},
     "output_type": "display_data"
    }
   ],
   "source": [
    "ax = sns.histplot(final_merged_data['INCIDENT_HOUR_OF_THE_DAY'], bins = 12)\n",
    "plt.figure(figsize=(10, 6))\n",
    "ax.set(xlabel='HOUR OF THE DAY', ylabel='Count', title='Distribituons of the hours at which the accident happened')\n",
    "plt.show()"
   ]
  },
  {
   "cell_type": "code",
   "execution_count": 65,
   "metadata": {},
   "outputs": [
    {
     "data": {
      "image/png": "[encoded data removed]",
      "text/plain": [
       "<Figure size 432x288 with 1 Axes>"
      ]
     },
     "metadata": {},
     "output_type": "display_data"
    },
    {
     "data": {
      "text/plain": [
       "<Figure size 720x432 with 0 Axes>"
      ]
     },
     "metadata": {},
     "output_type": "display_data"
    }
   ],
   "source": [
    "ax = sns.histplot(final_merged_data['PREMIUM_AMOUNT'], bins = 30)\n",
    "plt.figure(figsize=(10, 6))\n",
    "ax.set(xlabel='Amount of premium paid', ylabel='Count', title='Distribituons of the hours at which the accident happened')\n",
    "plt.show()"
   ]
  },
  {
   "cell_type": "code",
   "execution_count": 66,
   "metadata": {},
   "outputs": [
    {
     "data": {
      "image/png": "[encoded data removed]",
      "text/plain": [
       "<Figure size 432x288 with 1 Axes>"
      ]
     },
     "metadata": {},
     "output_type": "display_data"
    },
    {
     "data": {
      "text/plain": [
       "<Figure size 720x432 with 0 Axes>"
      ]
     },
     "metadata": {},
     "output_type": "display_data"
    }
   ],
   "source": [
    "ax = sns.histplot(final_merged_data['CLAIM_AMOUNT'], bins = 20)\n",
    "plt.figure(figsize=(10, 6))\n",
    "ax.set(xlabel='Amount of premium paid', ylabel='Count', title='Distribituons of AMOUNT CLAIMED')\n",
    "plt.show()"
   ]
  },
  {
   "cell_type": "markdown",
   "metadata": {},
   "source": [
    "It seems that the data is a bit skewed to the left. But it seems that most of clients paid between 0 and 10 dolars for a premium "
   ]
  },
  {
   "cell_type": "code",
   "execution_count": 67,
   "metadata": {},
   "outputs": [
    {
     "data": {
      "image/png": "[encoded data removed]",
      "text/plain": [
       "<Figure size 432x288 with 2 Axes>"
      ]
     },
     "metadata": {},
     "output_type": "display_data"
    }
   ],
   "source": [
    "corr = final_merged_data.corr()\n",
    "sns.heatmap(corr, annot=True, cmap='coolwarm')\n",
    "plt.title('Correlation Heatmap')\n",
    "plt.show()"
   ]
  },
  {
   "cell_type": "code",
   "execution_count": 68,
   "metadata": {},
   "outputs": [
    {
     "data": {
      "image/png": "[encoded data removed]",
      "text/plain": [
       "<Figure size 432x288 with 1 Axes>"
      ]
     },
     "metadata": {},
     "output_type": "display_data"
    }
   ],
   "source": [
    "final_merged_data['INSURANCE_TYPE'].value_counts().plot(kind='bar')\n",
    "plt.title('Insurance Type Frequency')\n",
    "plt.xticks(rotation=45)\n",
    "plt.show()"
   ]
  },
  {
   "cell_type": "code",
   "execution_count": 69,
   "metadata": {},
   "outputs": [
    {
     "data": {
      "text/plain": [
       "<AxesSubplot:>"
      ]
     },
     "execution_count": 69,
     "metadata": {},
     "output_type": "execute_result"
    },
    {
     "data": {
      "image/png": "[encoded data removed]",
      "text/plain": [
       "<Figure size 432x288 with 1 Axes>"
      ]
     },
     "metadata": {},
     "output_type": "display_data"
    }
   ],
   "source": [
    "final_merged_data['MARITAL_STATUS'].value_counts().plot(kind='bar')"
   ]
  },
  {
   "cell_type": "code",
   "execution_count": 70,
   "metadata": {},
   "outputs": [
    {
     "data": {
      "text/plain": [
       "<AxesSubplot:xlabel='MARITAL_STATUS', ylabel='CLAIM_AMOUNT'>"
      ]
     },
     "execution_count": 70,
     "metadata": {},
     "output_type": "execute_result"
    },
    {
     "data": {
      "image/png": "[encoded data removed]",
      "text/plain": [
       "<Figure size 432x288 with 1 Axes>"
      ]
     },
     "metadata": {},
     "output_type": "display_data"
    }
   ],
   "source": [
    "sns.barplot(x = final_merged_data['MARITAL_STATUS'], y = final_merged_data['CLAIM_AMOUNT'])"
   ]
  },
  {
   "cell_type": "code",
   "execution_count": 71,
   "metadata": {},
   "outputs": [
    {
     "data": {
      "text/plain": [
       "<AxesSubplot:>"
      ]
     },
     "execution_count": 71,
     "metadata": {},
     "output_type": "execute_result"
    },
    {
     "data": {
      "image/png": "[encoded data removed]",
      "text/plain": [
       "<Figure size 432x288 with 1 Axes>"
      ]
     },
     "metadata": {},
     "output_type": "display_data"
    }
   ],
   "source": [
    "final_merged_data['STATE'].value_counts().plot(kind = 'bar')\n",
    "\n"
   ]
  },
  {
   "cell_type": "markdown",
   "metadata": {},
   "source": [
    "Most of the customers seems to be located in California"
   ]
  },
  {
   "cell_type": "markdown",
   "metadata": {},
   "source": [
    "How is distributed the type of insurance accross each state?"
   ]
  },
  {
   "cell_type": "code",
   "execution_count": 87,
   "metadata": {},
   "outputs": [
    {
     "data": {
      "image/png": "[encoded data removed]",
      "text/plain": [
       "<Figure size 1440x432 with 1 Axes>"
      ]
     },
     "metadata": {},
     "output_type": "display_data"
    }
   ],
   "source": [
    "plt.figure(figsize=(20, 6))\n",
    "\n",
    "sns.countplot(x = 'STATE', hue = 'INSURANCE_TYPE', data = final_merged_data, stat = 'count')\n",
    "#sns.histplot(x = 'STATE', hue = 'INSURANCE_TYPE', data = final_merged_data ,multiple=\"stack\")\n",
    "plt.title('Insurance Type Frequency by State')\n",
    "plt.show()\n",
    "\n"
   ]
  },
  {
   "cell_type": "code",
   "execution_count": 122,
   "metadata": {},
   "outputs": [
    {
     "data": {
      "text/plain": [
       "array(['AZ', 'CO', 'CA', 'GA', 'FL', 'KY', 'AL', 'CT', 'TN', 'AK', 'AR',\n",
       "       'DC', 'VT', 'MD', 'MA', 'OK'], dtype=object)"
      ]
     },
     "execution_count": 122,
     "metadata": {},
     "output_type": "execute_result"
    }
   ],
   "source": [
    "final_merged_data['STATE'].unique()"
   ]
  },
  {
   "cell_type": "code",
   "execution_count": null,
   "metadata": {},
   "outputs": [],
   "source": []
  }
 ],
 "metadata": {
  "kernelspec": {
   "display_name": "igwn-py39",
   "language": "python",
   "name": "python3"
  },
  "language_info": {
   "codemirror_mode": {
    "name": "ipython",
    "version": 3
   },
   "file_extension": ".py",
   "mimetype": "text/x-python",
   "name": "python",
   "nbconvert_exporter": "python",
   "pygments_lexer": "ipython3",
   "version": "3.9.12"
  }
 },
 "nbformat": 4,
 "nbformat_minor": 2
}
